{
 "cells": [
  {
   "cell_type": "code",
   "execution_count": 1,
   "metadata": {},
   "outputs": [],
   "source": [
    "import pandas as pd\n",
    "import json\n",
    "import re\n",
    "import string\n",
    "from nltk.tokenize import word_tokenize\n",
    "from nltk.corpus import stopwords\n",
    "from nltk.stem.wordnet import WordNetLemmatizer"
   ]
  },
  {
   "cell_type": "code",
   "execution_count": 2,
   "metadata": {},
   "outputs": [],
   "source": [
    "raw_tweets_text=[]\n",
    "\n",
    "def get_data(url):\n",
    "    with open(url) as fp:\n",
    "        for line in fp:\n",
    "            tweet_as_dict=json.loads(line)\n",
    "            raw_tweets_text.append(tweet_as_dict['text'])\n",
    "    convert_to_csv()\n",
    "\n",
    "def convert_to_csv():    \n",
    "    df=pd.DataFrame(raw_tweets_text)\n",
    "    df.to_csv('tweets.csv')"
   ]
  },
  {
   "cell_type": "code",
   "execution_count": 3,
   "metadata": {},
   "outputs": [
    {
     "ename": "KeyError",
     "evalue": "'text'",
     "output_type": "error",
     "traceback": [
      "\u001B[0;31m---------------------------------------------------------------------------\u001B[0m",
      "\u001B[0;31mKeyError\u001B[0m                                  Traceback (most recent call last)",
      "\u001B[0;32m/var/folders/hl/5fg_47xx27n98z_939qdmr3h0000gn/T/ipykernel_3238/2115430523.py\u001B[0m in \u001B[0;36m<module>\u001B[0;34m\u001B[0m\n\u001B[0;32m----> 1\u001B[0;31m \u001B[0mget_data\u001B[0m\u001B[0;34m(\u001B[0m\u001B[0;34m\"tweets_file.txt\"\u001B[0m\u001B[0;34m)\u001B[0m\u001B[0;34m\u001B[0m\u001B[0;34m\u001B[0m\u001B[0m\n\u001B[0m\u001B[1;32m      2\u001B[0m \u001B[0;34m\u001B[0m\u001B[0m\n",
      "\u001B[0;32m/var/folders/hl/5fg_47xx27n98z_939qdmr3h0000gn/T/ipykernel_3238/37387791.py\u001B[0m in \u001B[0;36mget_data\u001B[0;34m(url)\u001B[0m\n\u001B[1;32m      5\u001B[0m         \u001B[0;32mfor\u001B[0m \u001B[0mline\u001B[0m \u001B[0;32min\u001B[0m \u001B[0mfp\u001B[0m\u001B[0;34m:\u001B[0m\u001B[0;34m\u001B[0m\u001B[0;34m\u001B[0m\u001B[0m\n\u001B[1;32m      6\u001B[0m             \u001B[0mtweet_as_dict\u001B[0m\u001B[0;34m=\u001B[0m\u001B[0mjson\u001B[0m\u001B[0;34m.\u001B[0m\u001B[0mloads\u001B[0m\u001B[0;34m(\u001B[0m\u001B[0mline\u001B[0m\u001B[0;34m)\u001B[0m\u001B[0;34m\u001B[0m\u001B[0;34m\u001B[0m\u001B[0m\n\u001B[0;32m----> 7\u001B[0;31m             \u001B[0mraw_tweets_text\u001B[0m\u001B[0;34m.\u001B[0m\u001B[0mappend\u001B[0m\u001B[0;34m(\u001B[0m\u001B[0mtweet_as_dict\u001B[0m\u001B[0;34m[\u001B[0m\u001B[0;34m'text'\u001B[0m\u001B[0;34m]\u001B[0m\u001B[0;34m)\u001B[0m\u001B[0;34m\u001B[0m\u001B[0;34m\u001B[0m\u001B[0m\n\u001B[0m\u001B[1;32m      8\u001B[0m     \u001B[0mconvert_to_csv\u001B[0m\u001B[0;34m(\u001B[0m\u001B[0;34m)\u001B[0m\u001B[0;34m\u001B[0m\u001B[0;34m\u001B[0m\u001B[0m\n\u001B[1;32m      9\u001B[0m \u001B[0;34m\u001B[0m\u001B[0m\n",
      "\u001B[0;31mKeyError\u001B[0m: 'text'"
     ]
    }
   ],
   "source": [
    "get_data(\"tweets_file.txt\")"
   ]
  },
  {
   "cell_type": "code",
   "execution_count": 4,
   "metadata": {
    "scrolled": true
   },
   "outputs": [
    {
     "data": {
      "text/plain": "                                                Text\n0  RT @SarkySage: As my account grows it’s more d...\n1  RT @theseoulstory: B.I releases a lyric video ...\n2  @7stargalaxy I genuinely can't even imagine fo...\n3  RT @minunivers: \"If there’s a name i call you ...\n4                           Scary af. And plausible.\n5  Track and Trace are utterly useless. The proof...\n6  We camped out because we NEVER lost faith in t...\n7  RT @possum_bimbo: Should I do it? https://t.co...\n8  RT @Deepak11412544: BHPV merged with BHEL on 3...\n9  RT @maria_aat6: I checked the results from the...",
      "text/html": "<div>\n<style scoped>\n    .dataframe tbody tr th:only-of-type {\n        vertical-align: middle;\n    }\n\n    .dataframe tbody tr th {\n        vertical-align: top;\n    }\n\n    .dataframe thead th {\n        text-align: right;\n    }\n</style>\n<table border=\"1\" class=\"dataframe\">\n  <thead>\n    <tr style=\"text-align: right;\">\n      <th></th>\n      <th>Text</th>\n    </tr>\n  </thead>\n  <tbody>\n    <tr>\n      <th>0</th>\n      <td>RT @SarkySage: As my account grows it’s more d...</td>\n    </tr>\n    <tr>\n      <th>1</th>\n      <td>RT @theseoulstory: B.I releases a lyric video ...</td>\n    </tr>\n    <tr>\n      <th>2</th>\n      <td>@7stargalaxy I genuinely can't even imagine fo...</td>\n    </tr>\n    <tr>\n      <th>3</th>\n      <td>RT @minunivers: \"If there’s a name i call you ...</td>\n    </tr>\n    <tr>\n      <th>4</th>\n      <td>Scary af. And plausible.</td>\n    </tr>\n    <tr>\n      <th>5</th>\n      <td>Track and Trace are utterly useless. The proof...</td>\n    </tr>\n    <tr>\n      <th>6</th>\n      <td>We camped out because we NEVER lost faith in t...</td>\n    </tr>\n    <tr>\n      <th>7</th>\n      <td>RT @possum_bimbo: Should I do it? https://t.co...</td>\n    </tr>\n    <tr>\n      <th>8</th>\n      <td>RT @Deepak11412544: BHPV merged with BHEL on 3...</td>\n    </tr>\n    <tr>\n      <th>9</th>\n      <td>RT @maria_aat6: I checked the results from the...</td>\n    </tr>\n  </tbody>\n</table>\n</div>"
     },
     "execution_count": 4,
     "metadata": {},
     "output_type": "execute_result"
    }
   ],
   "source": [
    "d = pd.read_csv(\"tweets.csv\")\n",
    "d = d.drop(\"Unnamed: 0\",axis=1)\n",
    "d = d.rename(columns={\"0\":\"Text\"})\n",
    "d.head(10)"
   ]
  },
  {
   "cell_type": "code",
   "execution_count": 5,
   "metadata": {},
   "outputs": [
    {
     "name": "stdout",
     "output_type": "stream",
     "text": [
      "<class 'pandas.core.frame.DataFrame'>\n",
      "RangeIndex: 6307 entries, 0 to 6306\n",
      "Data columns (total 1 columns):\n",
      " #   Column  Non-Null Count  Dtype \n",
      "---  ------  --------------  ----- \n",
      " 0   Text    6307 non-null   object\n",
      "dtypes: object(1)\n",
      "memory usage: 49.4+ KB\n"
     ]
    }
   ],
   "source": [
    "d.info()"
   ]
  },
  {
   "cell_type": "code",
   "execution_count": 6,
   "metadata": {},
   "outputs": [],
   "source": [
    "def process_data(df):\n",
    "    text_emoji = re.compile('[\\U00010000-\\U0010ffff]', flags=re.UNICODE)\n",
    "    text_links = re.compile('httpstco[a-zA-Z0-9]+')\n",
    "    text_rts = re.compile('RT [A-Za-z0-9]+')\n",
    "    text_schar = re.compile('[^A-Za-z0-9 ]+')\n",
    "    text_nums = re.compile('[0-9]+')\n",
    "    \n",
    "    for i in range(len(df)):\n",
    "        txt=df[\"Text\"].iloc[i]\n",
    "        txt=text_emoji.sub(r'',txt)\n",
    "        temp=txt.translate(txt.maketrans('','',string.punctuation))\n",
    "        temp=text_links.sub(r'',temp)\n",
    "        temp=text_rts.sub(r'',temp)        \n",
    "        temp=text_schar.sub(r'',temp)\n",
    "        temp=text_nums.sub(r'',temp)\n",
    "        df[\"Text\"].iloc[i] = temp.lower()"
   ]
  },
  {
   "cell_type": "code",
   "execution_count": 7,
   "metadata": {},
   "outputs": [
    {
     "data": {
      "text/plain": "                                                Text\n0   as my account grows its more difficult to kee...\n1   bi releases a lyric video for his collab song...\n2  stargalaxy i genuinely cant even imagine for a...\n3   if theres a name i call you by should i call ...\n4                             scary af and plausible\n5  track and trace are utterly useless the proof ...\n6  we camped out because we never lost faith in t...\n7                                    should i do it \n8   bhpv merged with bhel on  this i am not sayin...\n9   i checked the results from the last two weeks...",
      "text/html": "<div>\n<style scoped>\n    .dataframe tbody tr th:only-of-type {\n        vertical-align: middle;\n    }\n\n    .dataframe tbody tr th {\n        vertical-align: top;\n    }\n\n    .dataframe thead th {\n        text-align: right;\n    }\n</style>\n<table border=\"1\" class=\"dataframe\">\n  <thead>\n    <tr style=\"text-align: right;\">\n      <th></th>\n      <th>Text</th>\n    </tr>\n  </thead>\n  <tbody>\n    <tr>\n      <th>0</th>\n      <td>as my account grows its more difficult to kee...</td>\n    </tr>\n    <tr>\n      <th>1</th>\n      <td>bi releases a lyric video for his collab song...</td>\n    </tr>\n    <tr>\n      <th>2</th>\n      <td>stargalaxy i genuinely cant even imagine for a...</td>\n    </tr>\n    <tr>\n      <th>3</th>\n      <td>if theres a name i call you by should i call ...</td>\n    </tr>\n    <tr>\n      <th>4</th>\n      <td>scary af and plausible</td>\n    </tr>\n    <tr>\n      <th>5</th>\n      <td>track and trace are utterly useless the proof ...</td>\n    </tr>\n    <tr>\n      <th>6</th>\n      <td>we camped out because we never lost faith in t...</td>\n    </tr>\n    <tr>\n      <th>7</th>\n      <td>should i do it</td>\n    </tr>\n    <tr>\n      <th>8</th>\n      <td>bhpv merged with bhel on  this i am not sayin...</td>\n    </tr>\n    <tr>\n      <th>9</th>\n      <td>i checked the results from the last two weeks...</td>\n    </tr>\n  </tbody>\n</table>\n</div>"
     },
     "execution_count": 7,
     "metadata": {},
     "output_type": "execute_result"
    }
   ],
   "source": [
    "process_data(d)\n",
    "d.head(10)"
   ]
  },
  {
   "cell_type": "code",
   "execution_count": null,
   "metadata": {},
   "outputs": [],
   "source": [
    "def further_ops(df):\n",
    "\n",
    "    for i in range(len(df)):\n",
    "        tweet = df[\"Text\"].iloc[i]\n",
    "        token = word_tokenize(tweet)\n",
    "        token_no_sw = [word for word in token if word not in stopwords.words()]\n",
    "        lemmatizer = WordNetLemmatizer()\n",
    "        lemm_token = [lemmatizer.lemmatize(word,'v') for word in token_no_sw]\n",
    "        df[\"Text\"].iloc[i] = \" \".join(lemm_token)"
   ]
  },
  {
   "cell_type": "code",
   "execution_count": null,
   "metadata": {},
   "outputs": [],
   "source": [
    "further_ops(d)\n",
    "d.head(10)"
   ]
  },
  {
   "cell_type": "code",
   "execution_count": null,
   "metadata": {},
   "outputs": [],
   "source": [
    "index = d[d[\"Text\"]==\"\"].index\n",
    "d.drop(index,inplace=True)"
   ]
  },
  {
   "cell_type": "code",
   "execution_count": null,
   "metadata": {},
   "outputs": [],
   "source": [
    "d = d.reset_index()"
   ]
  },
  {
   "cell_type": "code",
   "execution_count": null,
   "metadata": {
    "scrolled": false
   },
   "outputs": [],
   "source": [
    "d.info()"
   ]
  },
  {
   "cell_type": "code",
   "execution_count": null,
   "metadata": {},
   "outputs": [],
   "source": [
    "d.to_csv('processed_tweets.csv')\n",
    "d.head()"
   ]
  }
 ],
 "metadata": {
  "interpreter": {
   "hash": "31f2aee4e71d21fbe5cf8b01ff0e069b9275f58929596ceb00d14d90e3e16cd6"
  },
  "kernelspec": {
   "name": "python3",
   "language": "python",
   "display_name": "Python 3 (ipykernel)"
  },
  "language_info": {
   "codemirror_mode": {
    "name": "ipython",
    "version": 3
   },
   "file_extension": ".py",
   "mimetype": "text/x-python",
   "name": "python",
   "nbconvert_exporter": "python",
   "pygments_lexer": "ipython3",
   "version": "3.8.10"
  }
 },
 "nbformat": 4,
 "nbformat_minor": 2
}