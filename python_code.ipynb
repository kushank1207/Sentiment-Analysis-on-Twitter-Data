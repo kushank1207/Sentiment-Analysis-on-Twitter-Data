{
 "cells": [
  {
   "cell_type": "markdown",
   "metadata": {},
   "source": [
    "# Sentiment Analysis using twitter Data"
   ]
  },
  {
   "cell_type": "code",
   "execution_count": 1,
   "metadata": {},
   "outputs": [],
   "source": [
    "#!/usr/bin/env python3\n",
    "import numpy as np\n",
    "import pandas as pd"
   ]
  },
  {
   "cell_type": "markdown",
   "metadata": {},
   "source": [
    "# Dataset"
   ]
  },
  {
   "cell_type": "code",
   "execution_count": 2,
   "metadata": {},
   "outputs": [],
   "source": [
    "data = pd.read_csv(\"sentiment.csv\")"
   ]
  },
  {
   "cell_type": "markdown",
   "metadata": {},
   "source": [
    "# Preprocessing"
   ]
  },
  {
   "cell_type": "code",
   "execution_count": 3,
   "metadata": {},
   "outputs": [],
   "source": [
    "data.rename(columns={'message to examine':'Message',\n",
    "                     'label (depression result)':'Sentiment'}, inplace= True)"
   ]
  },
  {
   "cell_type": "code",
   "execution_count": 4,
   "metadata": {},
   "outputs": [
    {
     "data": {
      "text/plain": "   Index                                            Message  Sentiment\n0    106  just had a real good moment. i missssssssss hi...          0\n1    217         is reading manga  http://plurk.com/p/mzp1e          0\n2    220  @comeagainjen http://twitpic.com/2y2lx - http:...          0\n3    288  @lapcat Need to send 'em to my accountant tomo...          0\n4    540      ADD ME ON MYSPACE!!!  myspace.com/LookThunder          0",
      "text/html": "<div>\n<style scoped>\n    .dataframe tbody tr th:only-of-type {\n        vertical-align: middle;\n    }\n\n    .dataframe tbody tr th {\n        vertical-align: top;\n    }\n\n    .dataframe thead th {\n        text-align: right;\n    }\n</style>\n<table border=\"1\" class=\"dataframe\">\n  <thead>\n    <tr style=\"text-align: right;\">\n      <th></th>\n      <th>Index</th>\n      <th>Message</th>\n      <th>Sentiment</th>\n    </tr>\n  </thead>\n  <tbody>\n    <tr>\n      <th>0</th>\n      <td>106</td>\n      <td>just had a real good moment. i missssssssss hi...</td>\n      <td>0</td>\n    </tr>\n    <tr>\n      <th>1</th>\n      <td>217</td>\n      <td>is reading manga  http://plurk.com/p/mzp1e</td>\n      <td>0</td>\n    </tr>\n    <tr>\n      <th>2</th>\n      <td>220</td>\n      <td>@comeagainjen http://twitpic.com/2y2lx - http:...</td>\n      <td>0</td>\n    </tr>\n    <tr>\n      <th>3</th>\n      <td>288</td>\n      <td>@lapcat Need to send 'em to my accountant tomo...</td>\n      <td>0</td>\n    </tr>\n    <tr>\n      <th>4</th>\n      <td>540</td>\n      <td>ADD ME ON MYSPACE!!!  myspace.com/LookThunder</td>\n      <td>0</td>\n    </tr>\n  </tbody>\n</table>\n</div>"
     },
     "execution_count": 4,
     "metadata": {},
     "output_type": "execute_result"
    }
   ],
   "source": [
    "data.head()"
   ]
  },
  {
   "cell_type": "code",
   "execution_count": 5,
   "metadata": {},
   "outputs": [],
   "source": [
    "# basically index a non-informative parameter, so we can drop index column\n",
    "data.drop(columns=[\"Index\"], axis= 1, inplace= True)"
   ]
  },
  {
   "cell_type": "code",
   "execution_count": 6,
   "metadata": {},
   "outputs": [
    {
     "data": {
      "text/plain": "                                             Message  Sentiment\n0  just had a real good moment. i missssssssss hi...          0\n1         is reading manga  http://plurk.com/p/mzp1e          0\n2  @comeagainjen http://twitpic.com/2y2lx - http:...          0\n3  @lapcat Need to send 'em to my accountant tomo...          0\n4      ADD ME ON MYSPACE!!!  myspace.com/LookThunder          0",
      "text/html": "<div>\n<style scoped>\n    .dataframe tbody tr th:only-of-type {\n        vertical-align: middle;\n    }\n\n    .dataframe tbody tr th {\n        vertical-align: top;\n    }\n\n    .dataframe thead th {\n        text-align: right;\n    }\n</style>\n<table border=\"1\" class=\"dataframe\">\n  <thead>\n    <tr style=\"text-align: right;\">\n      <th></th>\n      <th>Message</th>\n      <th>Sentiment</th>\n    </tr>\n  </thead>\n  <tbody>\n    <tr>\n      <th>0</th>\n      <td>just had a real good moment. i missssssssss hi...</td>\n      <td>0</td>\n    </tr>\n    <tr>\n      <th>1</th>\n      <td>is reading manga  http://plurk.com/p/mzp1e</td>\n      <td>0</td>\n    </tr>\n    <tr>\n      <th>2</th>\n      <td>@comeagainjen http://twitpic.com/2y2lx - http:...</td>\n      <td>0</td>\n    </tr>\n    <tr>\n      <th>3</th>\n      <td>@lapcat Need to send 'em to my accountant tomo...</td>\n      <td>0</td>\n    </tr>\n    <tr>\n      <th>4</th>\n      <td>ADD ME ON MYSPACE!!!  myspace.com/LookThunder</td>\n      <td>0</td>\n    </tr>\n  </tbody>\n</table>\n</div>"
     },
     "execution_count": 6,
     "metadata": {},
     "output_type": "execute_result"
    }
   ],
   "source": [
    "data.head()"
   ]
  },
  {
   "cell_type": "code",
   "execution_count": 7,
   "metadata": {},
   "outputs": [
    {
     "data": {
      "text/plain": "(10314, 2)"
     },
     "execution_count": 7,
     "metadata": {},
     "output_type": "execute_result"
    }
   ],
   "source": [
    "data.shape"
   ]
  },
  {
   "cell_type": "code",
   "execution_count": 8,
   "metadata": {},
   "outputs": [
    {
     "data": {
      "text/plain": "Message      10314\nSentiment    10314\ndtype: int64"
     },
     "execution_count": 8,
     "metadata": {},
     "output_type": "execute_result"
    }
   ],
   "source": [
    "data.count()"
   ]
  },
  {
   "cell_type": "code",
   "execution_count": 9,
   "metadata": {},
   "outputs": [
    {
     "data": {
      "text/plain": "0    8000\n1    2314\nName: Sentiment, dtype: int64"
     },
     "execution_count": 9,
     "metadata": {},
     "output_type": "execute_result"
    }
   ],
   "source": [
    "data['Sentiment'].value_counts()"
   ]
  },
  {
   "cell_type": "code",
   "execution_count": 10,
   "metadata": {
    "collapsed": false,
    "pycharm": {
     "name": "#%%\n"
    }
   },
   "outputs": [
    {
     "data": {
      "text/plain": "Message      object\nSentiment     int64\ndtype: object"
     },
     "execution_count": 10,
     "metadata": {},
     "output_type": "execute_result"
    }
   ],
   "source": [
    "data.dtypes\n"
   ]
  },
  {
   "cell_type": "code",
   "execution_count": 11,
   "metadata": {},
   "outputs": [],
   "source": [
    "from nltk.stem import PorterStemmer\n",
    "from nltk.corpus import stopwords\n",
    "import re\n",
    "ps = PorterStemmer()"
   ]
  },
  {
   "cell_type": "code",
   "execution_count": 12,
   "metadata": {},
   "outputs": [],
   "source": [
    "#Create a empty corpus to hold vector value"
   ]
  },
  {
   "cell_type": "code",
   "execution_count": 13,
   "metadata": {},
   "outputs": [],
   "source": [
    "# Lets start processing\n",
    "corpus = []\n",
    "for i in range(0, data.shape[0]):\n",
    "#    if i < 10:\n",
    "#        print(\"\\n\",data['Message'][i])\n",
    "    msg = data[\"Message\"][i]\n",
    "    # email addess\n",
    "    msg = re.sub(\"\\b[a-zA-Z0-9._%+-]+@[a-zA-Z0-9.-]+\\.[a-zA-Z]{2,}\\b\", \"emailaddr\", data[\"Message\"][i])\n",
    "\n",
    "    # url\n",
    "    msg = re.sub(\"https?:\\/\\/(www\\.)?[-a-zA-Z0-9@:%._\\+~#=]{1,256}\\.[a-zA-Z0-9()]{1,6}\\b([-a-zA-Z0-9()@:%_\\+.~#?&//=]*)\", \"url\", data['Message'][i])\n",
    "    \n",
    "    # Mobile no\n",
    "    msg = re.sub(\"/^(\\+\\d{1,3}[- ]?)?\\d{10}$/\",\"mobile\", data['Message'][i])\n",
    "    \n",
    "    # Number\n",
    "    msg = re.sub(\"\\d+(\\.\\d+)?\",\"number\",data['Message'][i])\n",
    "\n",
    "    #Phone number\n",
    "    msg = re.sub(\"\\b(\\+\\d{1,2}\\s)?\\d?[\\-(.]?\\d{3}\\)?[\\s.-]?\\d{3}[\\s.-]?\\d{4}\\b\",\"phoneno\",data['Message'][i])\n",
    "    \n",
    "    # punctuation\n",
    "    msg = re.sub(\"[^\\w\\d\\s]\",\" \", data['Message'][i])\n",
    "    \n",
    "    # convert to lower case\n",
    "    msg = msg.lower()\n",
    "\n",
    "    # craete tokens using split\n",
    "    msg = msg.split()\n",
    "\n",
    "    #print only for 10 messages\n",
    "    #if i < 10:\n",
    "        #print(\"Message-After Split: \",msg)\n",
    "    # apply stemming on it to remove stopwords\n",
    "    # porter stemmer\n",
    "    msg = [ps.stem(word) for word in msg if not word in set(stopwords.words('english'))]\n",
    "    \n",
    "    #print(\"Message-After Stemming: \",msg)\n",
    "    # preparing message with remaining tokens\n",
    "    msg = \" \".join(msg)\n",
    "    \n",
    "    # preparing a corpus\n",
    "    corpus.append(msg)"
   ]
  },
  {
   "cell_type": "code",
   "execution_count": 14,
   "metadata": {},
   "outputs": [],
   "source": [
    "# Prepare a vector using count vectorizer\n",
    "from sklearn.feature_extraction.text import CountVectorizer\n",
    "\n",
    "cv = CountVectorizer()\n",
    "cv.fit(corpus)\n",
    "sparse_input = cv.fit_transform(corpus)\n",
    "\n",
    "# during model implementation we need data in dense format and current input is a sparse data\n",
    "# convert it to array\n",
    "input = sparse_input.toarray()"
   ]
  },
  {
   "cell_type": "code",
   "execution_count": 49,
   "metadata": {},
   "outputs": [
    {
     "data": {
      "text/plain": "['real good moment missssssssss much',\n 'read manga http plurk com p mzp1e',\n 'comeagainjen http twitpic com 2y2lx http www youtub com watch v zogfqvh2me8',\n 'lapcat need send em account tomorrow oddli even refer tax support evid though',\n 'add myspac myspac com lookthund',\n 'sleepi good time tonight though',\n 'silkcharm nbn someon alreadi said fiber home mean least regular',\n '23 24ï ½c possibl today nice',\n 'nite twittervil workout ciao',\n 'danann night darlin sweet dream',\n 'good morn everybodi',\n 'final creat wordpress blog alreadi blog seattl coffe commun http tinyurl com c5uufd',\n 'kisha cnt get u til get frm u rememb ur top',\n 'nicolerichi ye rememb band awesom pleas repli',\n 'realli love reflect shadow',\n 'blueaero ooo fantasi like fantasi novel check',\n 'rokchic28 prob sell noth blog http snedwan com get listen band itun',\n 'shipovalov quot nokla connect peopl quot',\n 'stay late start earli good thing like job',\n 'kal_penn read new job congratul fantast',\n 'abl sleep think watch ugli betti onlin',\n 'woo thank ron steev follow yeow folowerssss haha p wanna got ellen show',\n 'aidenchan yeah sure sister take extra gd care',\n 'sian_the_mous yay duck want anyth watch duck lol',\n 'smaaack ass hahhahahaa make laugh oooooh sleeeep ahha g niit',\n 'woo late haha goodnight twittervers xoxo',\n 'look forward meet pastor kong jw later',\n 'doubleickey u know minichocol shape liquor bottl liqour insid em',\n 'test see twitter work thro facebook',\n 'night babi got vh1 thing check pic http twitpic com 2y57u http twitpic com 2xzl1 http twitpic com 2y5s2',\n 'got magic number thank support',\n 'cold man love weather',\n 'ok guy offici launch new languag swedish russian realli fun ask www surveypir com',\n 'ladi bought bracelet pictur twitter page background still wear week later taken like',\n 'dwanb ate filet american morn cant see pic mobil twitter',\n 'book hair appoint',\n 'report english b modern histori geographi b math b b account ipt',\n 'dtphulp lol know sound voic great need euh fine tune',\n 'cupcak heaven http ilovecupcak co za check shop nice design weird contact info popup tho',\n 'bought mh bundl creat task call quot mario quot quot star war quot quot hit list quot make sure sound complet task',\n 'someon turn shower pleas',\n 'frumousm yeah mani us angri feeter tim good lol good go havent post',\n 'carly109 love new song choru real nice catchi gud job track record jordan',\n 'tayjasp alrit thanxx',\n '889grapevin look forward new websit',\n 'modejunki awww sweet still cuti',\n 'rowanberri ohhh send load posit vibe way',\n 'tcouto cool stuff',\n 'celebr minor bank triumph bank b got one admit wrong',\n 'cosmicgirli think everyth cross turn babi turn',\n 'emmalight forgotten need sometim',\n 'tommcfli eclips awesom better new moon',\n 'tire today drunk husband roll 1am bunch friend anoth drink noisi lot',\n 'ingoramm well definitelli worth tri notic differ favorit neither',\n 'mileycyru good morn miley',\n 'finish first shift door open alreadi',\n 'noth quit like find good amp set solid state amp',\n 'gee_lo paid made redund two week ago need job big time',\n 'watch steam train go back forth ravenglass sunni',\n 'nat_ski bout steppenwolf magic carpet ride',\n 'shannanstedman haha maxxi beat whippet',\n 'yaaaaay jac train sorcer level 35 mean pwn soon',\n 'doggi cute',\n 'nicharri tell simon quot use tuk fm quot say hi',\n 'wildstarb happi rezday captain quit parti',\n 'car cost arm leg cute forgiv',\n 'tweet cracker barrel',\n 'what_amy_said phillip schofield schofe legend ami need follow page',\n 'check new techno record juno',\n 'rln49 funni',\n 'go make duti tomorrow goodnight',\n 'starrgazr ye mam noth like start day good song danc move',\n 'go paint nail get foood',\n 'athen',\n 'pjakob someon would figur access mp3 without actual pay',\n 'tootholog oh crap sure dare charg custom care india though',\n 'handmad good moment xxx',\n 'imasadgiraff browni good time day',\n 'check myspac look band differ state add friend myspac love music',\n 'happi birthday grandpa 3 cat still love',\n 'fiction nose clog use plunger',\n 'inque54 huy matulog ka na hahah cbroom done yet take shape',\n 'adamseo come better time',\n '2 day school left week im beyond excit saturday',\n 'simpl girl oatmeal make realli happi morn bloom wisteria',\n 'beverleyknight fine thank keep beauti alway',\n 'aplusk that beauti love thing say',\n 'dougiemcfli chang name michel',\n 'starboy_ yay well dont feel spesh',\n 'anoth year older today least sunni',\n 'kduros yep fought back well think turn decis moment win leagu though',\n 'louiss thank live florida sinc 1994 miss snow',\n 'goin abroaaaaad tomrow dubaiiii wait long twitter room prodigi sorri peep',\n 'melindsey lol shame',\n 'urbanfli mean c escher painter dj',\n 'wish school like revis session class 10 non uniform abl laugh learn time',\n 'nothin like good book spring clean http www mrsdlight com 2009 04 food storag pantri clean tip html',\n 'kerryn8 thank appreci feedback',\n 'listen music',\n 'mileycyru hi mileeey friend wait come spain excit love song great',\n 'robotsarecool anoth big tabl touch screen woot http www tuaw com 2009 04 07 illus lab goe big screen',\n 'nikhilnarayanan mistaken uncl pm angamali antwic gone case shavam',\n 'jptoto caus gem',\n 'offici result came pr 2 seat wherea bn 1 seat congratul pr',\n 'glove thx advic wait petosin kick',\n 'im play hooki work today voic realli gone tho im home today',\n 'love spontan road trip',\n 'love tweet day today work must get done tweet god bless everyon tcot',\n 'pepperfir friday yet babi tweepletuesday followfriday',\n 'take advantag sunshin go take dog beach walk work 12 day yipeeee',\n 'still employ troubl stuff sweet',\n 'let see well 2 5 hour sleep hold today predict massiv slowdown 14 30 funni',\n 'came back see 17 againn gooddd lt 3',\n 'superhooti mayb mayb',\n 'kimkardashian sooo watch disast movi absolutli hilari ur idol',\n 'kvanduyn happi mandi safe trip never va beach enjoy',\n 'jmacgirl1992 sign extra credit',\n 'fall asleep goodnight everyon',\n 'hwork live twitter api land long call oauth button http bit ly 70yrh',\n 'mate gunna chekk movi next week realli want see boat rock',\n 'bananaanna2008 mikequad total agre anna',\n 'worde follow us contact',\n 'love good book',\n 'sister anoth mister kayla',\n 'sun sky light way time promis willll',\n 'betty822 sound like pretti good night',\n 'accord roster hockey season bad hah',\n 'happi gilmor',\n 'nick_cart lmao guess friday bad',\n 'waynenh wish follow could 1 000 follow wayn',\n 'time shower french toast togeth',\n 'myucan91 daamnn im even go ask bore come hk',\n 'today thunder louisvil start derbi festiv love festiv even go',\n 'good mornin folk think make coupl home made egg mcmuffin go excel coffe clear sunni 58 mornin',\n 'think kellan lutz hot smoke',\n 'okay torn apart work fresh coffe amp peanut butter toast tri put back togeth less crap time',\n 'relax guest come hope everyon like food know morton made plain rice',\n 'surfislikeaboss hair red da light blond black jamesissexi hey hotti firesti da girl',\n 'today day',\n 'shop queen st sun yesterday like last time need find sf equival experi',\n 'backgammon birthday meal friend later',\n 'donniewahlberg holla chill way buy mapl syrup mmm hope great morn',\n 'mabelkatz look ok bit byte clean ho oponopono',\n 'azcameron seriou busi',\n 'lllllois made na twitter haha upload photo updatee',\n 'linacyru heyi aww thank much hun rock xoxo',\n 'heidimontag heidiii love new singl blackout amaz think dress amazinggg im jealou haha pleas answer someth',\n 'nubianeagl tempt morn randomli woke 5 30 fallen asleep 2 saniti import',\n 'saidthewhal great photograph saw guy play westjet street parti short set awesom nonetheless',\n 'amandabyn realli like ur 1 fan love ur movi especi man funni love lt 3',\n 'meday right back atchya hope great day',\n 'got showerrr myspac',\n 'gonna hang two favorit peopl http plurk com p ovm1q',\n 'pipe call bigthang',\n 'theendtim lmao love good comedi',\n 'koldcasttv beautyboutiqu thank follow',\n 'realworldmom',\n 'twitter look miley cyru luv xo',\n 'kimkardashian hey kim im huge fan ur like role model realli hope actual meet u one day',\n 'go outsid',\n 'ddlovato oh demi sure knee slapper',\n 'alyssa',\n 'mystica43229 hi luv sound like busi day hope went well',\n 'watch bradi bunch',\n 'go mall',\n 'mad tacrain kylielanejona complet mission without app good pretti',\n 'love sound break glass someth cathart',\n 'boulder creek gram',\n 'mebrownie09 love babi',\n 'gisher retweet person believ tweet effect weekli purg take care thing',\n 'ddlovato aw safe trip sweeti ill miss ox',\n 'lodurzj well pizza good',\n 'qotd quot hey still told guy stori english heritag fella lucki still aliv quot yawnerddn',\n 'still sit mayb go get air serious need help life almost clutter room',\n 'nakrissimo come could use nice decad parti',\n 'around',\n 'selenagomez love selena gomez beauti role model idol would happi repli',\n 'sassycat24 mommi',\n 'beer amp corn dog know weird combo santa monica pier',\n 'clouds2287 hm take essay go well right perhap swap noth left lose lol',\n 'tweetup afterparti genji',\n 'back work twitt ya laterz',\n 'go church',\n 'teh_jok yeah im done puke crown coke',\n 'oliverwalton know im normal il though il cool see happen world twitter',\n 'wife shop great mall milpita great price us dollar still reason low us',\n 'goi reedbox get movii',\n 'sadknob good thing p amp k day job',\n 'capecodgurl sorri spam troubl mash multisyllab word hate finger',\n 'statesboro fun see greenjacket augusta tonight',\n 'just_kelli fact know librari close 6 lame',\n 'carysss oopssss forgot put ypur link begin haha case realis hope feel better',\n 'hi loriblue4508 would suggest music electro project http bit ly 12kof0 free download amp fun cheer',\n 'elicab aw well u ever feel like fli 2 con help u find place 2 crash flew 2 london 4 buffi con btw',\n 'fabul 1 5 hr run desert missi kaya run errand buffalo burger',\n 'go old school play super mario brother',\n 'head clear lake meet ken coast guar aux dinner hope road clear feel row',\n 'nicky_pow truli addict twitter link facebook twitter togeth updat one',\n 'michaeltyl way least rate though may even bake someth tonight know',\n 'kevinmiam thank take inspir today test',\n 'ladymelancon hey',\n 'thethirdrat oh good thankyou',\n 'im feel peac room clean ny hair cut think im readi nap',\n 'parti tonight j loung downtown la nice sunni day cali',\n 'theros guy come washington state total crush tacoma mall pleas lol',\n 'meghan_xoxo seth mcfarlen god',\n 'vismajor glad guy wonder weekend',\n 'goodnight',\n 'ohhushmus sure bb',\n 'robynsyk half taught half actual learn viva la vida coldplay epic song',\n 'sugarhustl hehe u funni follow',\n 'watch nci grey hair make mark harmon attract think',\n 'readi patron hollywood phathead bday',\n 'laylakayleigh go skydiv ill let know next time im town',\n 'sambasel noth',\n 'talulakim yearbook closet look 2moro u still curiou um ki6bjv go school exactli lol',\n 'new osalto blog post http tinyurl com dnbrw3 enjoy',\n 'blast across univers soundtrack',\n 'angmogirl oh worri gonna bad co sunday',\n 'starpadilla lol realli understand twitter quit yet got repli chipotl that cool',\n 'billy3g cool peopl herebeforeoprah',\n 'fun night got see nevershoutnev andi holidayparad yay waitrewindthat took ihop yum',\n 'oliv long get readi come',\n 'britneyspear show last night amaz glad abl go',\n 'zenzie386 ye nyc way love hate http twitpic com 3ky08',\n 'respr btw meant tell earlier sweet shirt wear afflic ufc shirt still wait cool card get auth wear',\n 'exoticqte u learn',\n 'skype endless fun',\n 'bali juli japan good time go japan anyon',\n 'britneyspear thank follow back',\n 'azthunderponi nice think get sleep enough energi enjoy horsey day',\n 'join sleep mon tue trackday njmp cbr600rr http www njmotorsportspark com track html thunderbolt',\n 'dili thank huge hug',\n 'fureousangel recent matrix trilog sit tire awesom matrix trilog favorit sci fi film stori',\n 'audball_xo total agre beyonc stupid ali larter',\n 'jimalg forget parent often think offspr 12 yo',\n 'sophiethecock wardrob often made chees eat',\n 'went 2 wallyworld today awesom time get kewl easter basket nitelit comput',\n 'karencivil okay text say wake lol doesnt call 1pm time thx karen',\n 'sleep',\n 'watch idnhu vid',\n 'lizinhollywood wait',\n 'roxxinikki happi birthday take plenti pic video rememb later',\n 'good night tonight journey twit end tomorrow see ya tomorrow',\n 'oddessi congrat cooler happi birthday miss love',\n 'night twittz ju came home parti love hella tire allerg cat ew irrit',\n 'happi easter everyon',\n 'janinealino janin whoa dude hahah u realli put thing sent u sa fb ahhaha gee tnx janin',\n 'neildenni hehe yep love car boot never usual buy much heh',\n 'iamdiddi love diddi diddi live gt http bit ly ben2t',\n 'finish eat drink badg gt http twitpic com 3l3i1 lt look',\n 'readi go bed long day today good night',\n 'authorlisalogan oooh cool cool thank much inform',\n 'knighttim love',\n 'hannahvictoriu organis properli next time glad enjoy',\n 'tourscotland got must recharg',\n 'com4myst_blgspt thank',\n 'brob108 good stuff woop look forward tomorrow good day mr brian',\n 'irish1974 morn irish btw',\n 'omg fix ipod',\n 'think read real blog www lisarcast blogspot com awesom like lol',\n 'congratul hate',\n 'ellaeslajirafa quot quot dai blackish green quot quot si silk quot quot silk blackish green color hope like',\n 'jonathanrknight',\n 'sweetpea back school univers 2moro realiti bite great break tho feel rejuvin',\n 'anishaflow thank feet leg ach comment eas pain',\n 'walkaboutkiwi 2l till 3am wait u kekekek jk',\n 'anyon care comment last night hell kitchen well',\n 'build websit',\n 'watch wizard waverli place lol lol lol',\n 'sacc meet parent',\n 'kurioustrina awww thank call sexxxi thought forgot',\n 'stare stupidli front dad haha look like einstein',\n 'yet see wast dream deserv tear face see smile lt 3',\n 'good night twitter shit lol im fuuuucckedd hjdjjsiurjhjfhoipwplkjdhjdhhjhjdxdhueuhrjjjjjaaayyyyyyyyyyyi',\n 'borrow georg http blip fm 4kpxr',\n 'champagn breakfast bubbl went straight head tho lol',\n 'em_c good tri well done paint way',\n 'tommcfli welcom home',\n 'todd saviour goodnight facebook',\n 'heard bootleg remix quot u seek ami quot kiss fm chicago',\n 'stefanie_go ahh vampir haha pale naman ah',\n 'road wife 1st triathlon updat 6 hr call paramed',\n 'gerardway waight till new albam guy save life rock',\n 'feel like eat 18 inch pizza yellowcab someon give haha',\n 'happi sunday get readi go church love god much u take care friend',\n 'mummy_fitz take dad',\n 'fortheinsan tomorrow comput phone right',\n 'heath7 lololol love man ugg',\n 'ooooo chang',\n 'sammi read amaz sunshin love thank everyth bet feel love haha',\n 'night awesom slept 1 watch kyle xy supernatur great',\n 'kimkardashian kim sorri sun burn lol hope feel good follow p l e e big fan lt 3',\n 'lunch dishwash back',\n 'jonasbroth http twitpic com 3br5p omj look hot everi pic love new haircut',\n 'nonafairuz f u 200 follow haha',\n 'jackfaulkn ah nevermind thought count also quit predict',\n 'last night good watch pearl harbour elli ben afleck amp whoever play best mate fit anth fell asleep lmao',\n 'rachaelphillip got beaten less get beaten without',\n 'love night',\n 'shani_epa umm arrang would earliest day could get',\n 'gourmet make co one mango short use fresh mango season',\n 'home famili wet co rain got call dad bu co mum got worri wasnt home yet isnt sweet',\n 'madmagz22 hey hun great see u twitter hope u well x',\n 'skinkl yeah right',\n 'awak lovin arttm ff5 main 30h 3 ever',\n 'hethfen great thank make music good today',\n 'way 2 airport bye bitch',\n 'longest sound check ever long time type stage',\n 'rosevib well next time next time',\n 'anyway sarah prout wish best luck hope fun process cheer',\n 'ellemarten would love see write think great writer judg',\n 'kevinculli make sure take fun fundament',\n 'birthday final 19 woohooooo',\n 'wonder capcom found necessari comic increas zangief bulk throughout street fighter game',\n 'super tire earli awak weekend king island later',\n 'gosh like sayig funni gosh haha meen word self',\n 'nick_cart http twitpic com 3knrc okaaay that crazi luv erm blue omg',\n 'melraemorgan thank younger use hate bulli ginger love x',\n 'reddic miss star trek movi trekki cross dress confer go type lmbo',\n 'updat myspac accout love playlist gt http www myspac com samanthavillanueva',\n 'raecheybabi alreadi bounc back meltdown catch breath',\n 'ashsimpsonwentz hey',\n 'maron101 breakfast tomorrow',\n 'olivosartstudio oh thing similar time thank give name research',\n 'happi birthday',\n 'spaniard notic galician accent speak english find funni',\n 'etrangl http twitpic com 3l8mv mysha amp myreen cute',\n 'peac sunni',\n 'go spend sunday famili',\n 'sofdlovesbsb lol bet station hear alot let hope singl red hot',\n 'mayb connect shite everyon beat',\n 'end nearli sight thank god got cheeki bit supernatur background',\n 'akamonti irish german spunk mix',\n 'mikeneumann hahaha know uptight thank handsom xoxoxoxoxoxoxox',\n 'look boat rental lake eufaula famili visit recommend',\n 'birthday',\n 'good tranc music gt redbul asot400',\n 'first opi ds desir prepar tri',\n 'joeyjepson nice choic anyway thought mayb artist',\n 'ever sinc bought macbook send much email fuck easi becom spammer',\n 'erniehalt welcom back la congrat shout look forward resid hc',\n 'ryanhawiya yeah wouldnt care disney channel movi realli wanna horror thriller',\n 'gosh realis much film studi work pete set us meanwhil go watch motorcycl diari',\n 'ye littlest houseguest go home today alreadi turn great day',\n 'excit friend date today',\n 'watch nba playoff coverag favourit question jazz chanc laker everyon answer far',\n 'violetheverbos men annoy',\n 'spend day sister',\n 'watch footbal',\n 'hope everyon swell day',\n 'diana_duncan need outsid littl get fix fine glanc window puter thing',\n 'diggin mah new sweater',\n 'jonasbroth ilovelovelovey',\n 'affirmationspot word may want one u finish',\n 'anyon give away iphon lol realli want one anyon gener',\n 'thank new follow appreci',\n 'badbadgirlx good luck everyth great around',\n 'jonthanjay awesom one cool game',\n 'get readi go bbq babi daddi hous wife kidscrazi huh peac rockin bob marley tee j',\n 'chrystinasay cant wait til come halifax juli 25 babi got ticket',\n 'nicoledeb dont much clout would def give arugul 2 thumb',\n 'gojeffrey sweet ride day green lizard lol',\n 'also inbetween class',\n 'deabush lol know mean',\n 'studi happi 4 20 everyon xx',\n 'moonfry would son without doubt 12 year old air breath amp love life',\n 'take lunch break great rehears',\n 'crowsond care tweet',\n 'great show night excit anoth',\n 'escrov lovee sb',\n 'wanna write review film amp music releas go amp leav place long time cours',\n 'kameshvari thought imogen heap dude first time heard sing low first album',\n 'jenna_glass ahhah know want follow toooo',\n 'chang email address old navi newslett got anoth quot thank sign quot coupon awesom',\n 'fina cut da celli back n c dun texd den hit da frenz amp amp c wat iz fa 2 dayi',\n 'tweet first time watch music channel',\n 'ddlovato think need know could go parti pretti amaz',\n 'locaoimh thank comfort intellig rhetor',\n 'well chuf surpris flynnmiest balloon present',\n 'alancarr ferrero rocher go straight hip enjoy',\n 'donniewahlberg happen celtic glad la girl utah go',\n 'merrymorgantown realli hope arriv 3rd 10th pari 22nd week back august 20th',\n 'glad pour bit',\n 'jemarsz03 paint one chadreev put finish touch',\n 'smck11 sorri hear root canal good luck fun soft food',\n 'selenagomez love movi zac awesomee',\n 'see car behav strang traffic worri siginutz drive',\n 'kpacek330 lmao aw amaz dont think could ever get use thing like hey that hah aw dna stuff',\n '17 best movi ever think everyon justic go see',\n 'a_yasgar aww aaron nice hear see say need edit bit',\n 'ccab oh think figur cornucopia amaz like chocol cover one yyuumm',\n 'rawrstar well 50 dollar 6 hand tourney yesterday good',\n 'shit lame foreal lmao hey follow',\n 'kkd2525 thx 4 fb u like go http node fm manatmous amp get 3 album mine free donat great time',\n 'derekinpa hahaha yeaaa that good one notebook',\n 'ashyeee giirl u better take care shit lol goodnight tweeti',\n 'brendonuriesay http twitpic com 3mr7r bden new puppi cute love pic',\n 'morn tweet devil ot 2nd',\n 'imrananwar agre sir',\n 'need talk mynameiskaraaaa well life pretti good fun stalk',\n 'nice spring day bird tweet away',\n 'khaled74 hater done soon enjoy last time hah',\n 'jestertun meh know polit correct color guy',\n 'keroski buy cheapest good thing that got mac mini',\n 'kinagranni davidchoimus think cover lucki jason mraz colbi caillat',\n 'asleep 4',\n 'ddlovato silli danc tryout friday find today made could wish luck amp pray pleas',\n 'glazou difficult extract thatï ½s wall garden hm blame w3c everybodi els soft lock',\n 'updat profil hard fit 140 char twitter malta',\n 'rsuenaga thank bring ticket today',\n 'jimmyfallon suppos gonna drink twitter anywho',\n 'justtidbit thank ye expect 5 sure yet due ultrasound may 14 grow fast',\n 'thewildjok alright follow hope follow back',\n 'remov expir offer weekend lot expect day today chri',\n 'bom dia twitvers',\n '60 day 6 hr 45 min la flight',\n 'everi muscl bodi sore weight great damn middl ear problem whing whing haha',\n '_maisi loveeee',\n 'junderst ll hell imma wit caus 8am 10am class',\n 'coollik thought might show tardi ipod http twitpic com 3na07',\n 'good morn everyon',\n 'shaundiviney sound hardcor',\n 'wegmus pleasee pick realli realli want pictur',\n 'weather like london bright sunni warm look like spring',\n 'mileycyru great movi keep good work',\n 'watch becom jane aww jame mcavoy irresist hawwttt',\n 'icharlott imo superstar hush feel realli btub long weekend',\n 'jamescaan let us weird busi see lol',\n 'jennylau aw cutest jersey send love especi tini dog',\n 'willryk tweet mean zero updat unaccept unless drink tea two eat tofu tutu',\n 'sznq heh fame celebr refug look narcissist',\n 'owlciti music help sleepless night',\n 'stay late help friend',\n 'gehan99 hehe erm googl thing pretti cool gonna next cover',\n 'monkeyspaw start accus us get',\n 'chunlum jpn koto longer amp string carri koto amp taiko part time job',\n 'sun shine',\n 'look use realtek 8111 8169 ubuntu server 8 04 lt',\n 'rmilana great thank thing end',\n 'gillyhttfan look forward see plan go back next year',\n 'set new macbook',\n 'good morn ppl hope get rid monday morn feel',\n 'redheadlori pcjbfan final broke got tix yesterday seein ya tampa fo sho wait til august',\n 'fourzoa yee oh love see anytim town',\n 'ewww wateri tea bag brew 2 second peopl',\n 'chang name kinda match mi real name peopl know find better plu elliewoo fun say',\n 'lironst mmmm ate yesterday',\n 'eterna1dream pick tri escal someon gonna leav easi',\n 'jazza_uk hah broke',\n 'eeeehhh doubl scoop ice cream lunch today bliss x dessert bar promot rm4',\n 'ppinheiro76 umm realli fond make isacosta event would make nervou',\n 'ricodaniel dont pop see england perfect opportun talk busi think',\n 'emmyos im repli',\n 'atlumschema rather nervou neighbour amount smoke produc obscur humbl natur littl bonfir',\n 'last thing know stay bless everyon',\n 'hope good news week',\n 'allegromous good morn',\n 'creativ thing speed experi jetblu though ankl hurt littl',\n 'good morn twitter critter',\n 'ugh soo tire get readi school jp soon',\n 'pgeorg prefer run nativ osx app',\n 'msn night say pretti good',\n 'ddlovato good luck uk releas yer album today got love',\n 'yofia cours left dd start cough etc poor dh',\n 'greatest 13th wed anniversari night tonight 2 nhl playoff game watch wife romant',\n 'new twitter world think ob best use',\n 'mommysnack mean make blog invit one reader email mistak ask permiss read',\n 'http recipekey com r zykfx great veggi lasagna happi marathon monday boston folk',\n 'everyon go outsid take deep breath exhal well wonder enchant day namastï ½',\n 'ninahayden rememb award elementari bear creek nice school recogn hard work',\n 'tommcfli take photo danni pl',\n 'kkozmic nh terribl solut report side cq daab better v2 write anyway',\n 'shannamaclasco sarahfredrick start step internship may 4th see',\n 'enjoy nice cool breez new desk fan',\n 'cescadoodl offic speaker headphon great great track got album home',\n 'ksprior post someth moron',\n 'atomiclola awesom glad like jealou',\n 'thing call twitter com quit like',\n 'tgn nope',\n 'lindajhutchinso happi birthday great day thank follow',\n 'visittampabay thank tweet itali sure',\n 'silixel put anoth way quot rememb uniqu like everybodi els quot',\n 'pursebuzz g mornin pursebuzz coffe',\n 'meesterbob chinchilla amaz loaf one kind',\n 'leav northpoint c3g mtg head crabappl middl tornado shelter safe',\n 'woken love phone call boy great start monday feel great',\n 'kwidrick awesom great week',\n 'startaton non fat chai tea latt',\n 'mileycyru take care',\n 'understand gotta work haha chew gum feel like smoke dad big smoker know thing lol',\n 'walk home school look like loner funni day school today',\n 'shapingthepag yep stuf great littl app although admit use',\n 'nezua hey hey',\n 'theamazingchas sheepi sheepi sheepi sheepi wake',\n 'kencasey mayb new begin draw follow',\n 'right wll bore go busi mindless crap back inabit',\n 'brother_rat yep one thing fantast support emphas enough keep get better better',\n 'caseymairex awww',\n 'sweet dream twitter',\n 'llmmcc gonna drive drill back',\n 'think enough tweak twitter home page might david sall',\n 'biggznm shop',\n 'shakenbake80 3 hour hai nick',\n 'craigsbeardwax goodnight',\n 'dizeman haha thank yo',\n 'start realli love run anoth 3 1 2 mile',\n 'arkadyros wow gorgeou',\n 'dentist said teeth good bit clean polish good go',\n 'acidicic thank got work eventu',\n 'im gonna see raphael saadiq perform live tonight',\n 'donniewahlberg freakin miss guy want go everi concert cant fresno luv',\n 'boy back today yay',\n 'back later tonight bye beaut friend keep send love xoxo',\n 'back draw exercis sleep',\n 'bram85 hope like even fiction',\n 'joliesouri work 2 add u u need 2 go 2 sleep sorri made u come great day 2morrow',\n 'doveypoo see doctor yet feel better soon',\n 'pretti good day today went parko jeremi smith',\n 'thevervekid thank much learn still pleas keep awesom work vibe cya friday',\n 'http twitpic com 3pd5a makapu u beach 2 camera phone awesom captur blue',\n '_robin_sharma http twitpic com 3ovto sell ferrari',\n 'rhyzom blog pretti lame stori unreleas bike seat tip awesom',\n 'roxonfox hey what good roxanna',\n 'merejam yeah could see pic might provid problem lolz prob less',\n 'got home bought hey monday heymondayonlin album today glad realli good',\n 'caffien',\n 'ebay n bought sumit 4 sum1 special lol',\n 'nethrow love version cool',\n 'mensdomain glad hear sweeti rough day feel much better thank',\n 'briggysmal happi 1st high five dude',\n 'noth better guy love pluto back',\n 'adelablu still dev live beij',\n 'thought lt 3 part make feel like still care still',\n 'amaz day today relax refresh much fun',\n 'help cultur shock sd join us hooter mv wednesday 600 1200 20 check support us drink merri',\n 'faf think drive dublin berlin someth',\n 'still figur',\n 'woollymitten congrat mate final away cow live flat raini grasland citi head',\n 'prernabhagra welcom twittervers prerna',\n 'paper_hand make giggl',\n 'eliebel lol 2 see gorgeou friend play would make holiday extra special see england',\n 's_bergmann thursday follow back tweet',\n 'radio station anoth day',\n 'sassyshannon lazi want phone bb still novelti http myloc 6pq',\n 'susiewilson dramaprincess melbourn australia question',\n 'walk run eat laugh eat eat laugh sleep perfect even ahead',\n 'came home market market watch jash cheerdanc competit fun',\n 'luiz3 thank think aloud thrive healthi pressur right fight flight choos fight',\n 'survivor91 ummm like 200 vote pweas',\n 'contempl goal art weekend ye know tuesday',\n '_cantus_ easili distract tho cantu look squirrel',\n 'gilltaylorphoto money issu also wep horrend insecur feel trip stafford come',\n 'kristenstewart9 hello kristen love work',\n 'luceyloub think fall love xxx ilovey',\n 'queen_yinci ok cheer hope amp famili well',\n 'fare thee well tweetdom',\n 'dizzyfeet good witch bad witch glinda ugli',\n 'hey want say hi thank new follow got past day',\n 'manuelkuh thank made day',\n 'ano tong twitter',\n 'ehayen think fun talk radio big plan',\n 'mediahunt yeah least use twitter babi step reinvent',\n 'great earli morn workout get readi work',\n 'woo lesson cancel afternoon',\n 'gonna go eat lunch yummi veg soup crusti bread',\n 'yatpundit countri week',\n 'actual go delet wordpress minut anybodi use wordpress pleas tell',\n 'home quiz wooo',\n 'debbiedavi shape differ materi differ purpos',\n 'anoth busi day client amp prepe hear next week',\n 'mryat plan hold one ireland',\n 'good morn',\n 'bought 3ft long puzzl last supper mail wonder mani piec',\n 'stuck use verizon wireless card stupid internet apart work give go bed earli',\n 'lmpotter near bellingham waaaaaay northwest near soviet canada amp ussa border',\n 'cheesecak factori yay',\n 'wow need breakk prom tmrw',\n 'derunkah twitter woooooooo downtown enjoy last bit sunshin',\n 'glad graduat parti went well go bed see cousin prom',\n 'vote seanjohn com face futur im page 33 least last page',\n 'omggggg later practic tire',\n 'search new rington im thinkin someth loud hilari know',\n 'hang best friend give makeov watch camp rock',\n 'krystalrenee24 cheer look yummi fruiti drink respons',\n 'say hello nath',\n 'hamthrax glad kitti swine fine',\n 'tuck babi 3 1 barley hang',\n 'stabotag share',\n 'murray think adork',\n 'fredwilson local pub call fli pig',\n 'websmith1 find interest movi sound like good one',\n 'way marbella spain see u guy later',\n 'mysteriousmysti hope u alotta fun see green day awesom band',\n 'clinterior happi weekend great father good morn yet side globe',\n '2 son came home colleg quot definit graduat june right quot quot ye mom quot',\n 'guy go site http tinyurl com cbc3r6 unlimit free rington',\n 'theresanoel okay keep look',\n 'gk_minusalltop n regard previou note see account non alltop tweet',\n 'feel pretti sleepi want hang tomorrow hope prom kid fun',\n 'think time kill zombi',\n '1sweetwhirl thank followfriday mention',\n 'go bed gotta lot energi play littl man pooch',\n 'good night went dinner mom get paycheck coffe realli low key tonight good',\n 'artdoodad oh fun love process amp get use result send link make stamp want share',\n 'hey messag wear peac bracelet repres',\n 'gmmlive tomorrow go bright amp earli tent',\n 'howlingeverett would cool got right monkey made fifth one',\n 'kath1213 enough bodi hair qualifi',\n 'bed time',\n 'melissamoog date alway end twitter anyth web site',\n 'ronnie1977 finish whole bottl wine biggi realli shrink said bottl hurt',\n 'gonna good time screw everyon els',\n 'ethansuple oregon got marri oregon',\n 'daniel0405 know right like quot super quot follow',\n 'thank everyon follow realli enjoy tweet may tweet happili amp merrili continu',\n 'revstacey know number',\n 'twistedmacsista anonim advantag',\n 'hope bunni find carrot left',\n 'got earli took 4 hour nap blowin amp watch movi',\n 'tinyvamp sure recommend like everi scent http www waxmancandl com index2 php',\n 'good night everyon love craig',\n 'whatcaitlindid long time twitter monday busi could help revis math good teacher xoxo',\n 'shannonleto aww bless',\n 'goldyfinch late hv alreadi cross 2 dark side sticki toffe pud 4 year wish luck amp thk tip c cream',\n 'vampirekitten lol sound like everi model ever work must get hang',\n 'debat boy color write pitboard today lol',\n 'love new profil',\n 'raeknightowl4 haha lord heard prayer',\n 'http bug launchpad net bug 56125 realli need get fix',\n 'nickgonio thank made airport pete passport seem work see ya week',\n 'awak readi day',\n 'winson great look forward feedback',\n 'londicr hi londi thank compliment love work',\n 'waste_not servic keep track servic avail twitter',\n 'sofia wont read till get back youll wait line right lol day final here lol much fun',\n 'go fli turkey coupl hour',\n 'davidcoalli 1 cakeri',\n 'ye ye',\n 'marco_cali nope unexpect happen sister arriv home im gonna spend time',\n 'follow lc step pratt miss hill havent seen late',\n 'yehey may pictur na ako',\n 'robpattinson_ love work twilight',\n 'listen new maccabe stuff',\n 'assign',\n 'good morn friend yonishtrash hicer bobbarclay snookie007 amity_caf uscrudeoil great day',\n 'http twitpic com 4ead2 new haircut yay',\n 'locki got vapor rub',\n 'drinki dranki drunk bed feel nice im listen kaskad 4 cuz well 4 gnight suckahz',\n 'got email euromillion ï ½12 70 enough set record label least get first round bar',\n 'perrynobl think chick fil kinda morn anderson c mon perri know wanna',\n 'hannahwint look stronger',\n 'rise shine twitter go feed homeless today get dress set go',\n 'larasexypanti hey need chat sometim soon hope ok',\n 'classic one hit wonder fail get ya movin come eileen http blip fm 5etcn',\n 'starsnostar next make penis work art cours respons would quot understand quot',\n 'toysrevil astrodud post man let know arriv wwr piec btw',\n 'brianzwolinski good luck hope your well',\n 'emilyhall92 follow mcfli fate ahahaha',\n 'ct_x thnx found',\n 'watch one tree hilllllll',\n 'createandinv make third need fuel busi day fill order',\n 'antiquebasket complain',\n 'netflix awesom custom servic mention great product',\n 'mistymoodl cool',\n 'daniesq know alway earli weekend',\n 'mariahcarey tweet might well chit chat haha',\n 'drink much vodka haha yay',\n 'clothcouturellc guess specifi kid need news one',\n 'chrisbrogan quot summer look quot mr brogan',\n 'trevermendham thank followfriday head',\n 'itswendyl thank happi saturday',\n 'buhahaha time massiv follow furri',\n 'realiz pit hand toilet thank god noth button work',\n 'marshallkarp ps blame mrs_westwick total',\n 'matttbastard uncool01 think drink ars feck think',\n 'hooray 3 stalker spi spi find ok win round hide n seek',\n 'mehmetemin realli great song',\n 'onfrozenblog see sinc citi field first hand knowledg',\n 'jyonjacob ed westwick hot right',\n 'well goodnyt tweet tomorrow',\n 'think templat plurk gue yg skrg gimana hahaha http plurk com p re3bd',\n 'good morn tweep day 2 begin wish luck',\n 'earli saturday mad',\n 'watch twlight comentari',\n 'way work bead store last day home work new jewelri design',\n 'hotsport man would awesom bet kid would get along famous mayb one day happen',\n 'mommy2jl good look said littl prayer littl one',\n 'omg rain go sit outsid get soak wet second thought that bad idea gt lt',\n 'well 2 new colt post myspac websit join us myspac http tinyurl com cnyn7l',\n 'aceconcierg enjoy weekend suzi',\n 'doubletroubledi lulu follow twitter',\n 'like awaken',\n 'davorg case im gonna start tweet nymphoman pub owner like cook well worth shot eh',\n 'calliesink pleasur thank',\n 'love wolverin',\n 'xoxovideogirl hey hun good thank ye still rememb user pass check',\n 'new day time sit noth 15 hour gonna home day call wanna talk',\n 'whew homepag design done done',\n 'think motion citi soundtrack need start record alreadi',\n 'akparisi thank',\n 'emot stuff human love accept exactli',\n 'heartoffir okay doke u neil',\n 'djalizay ill walk 4 love anim',\n 'paulissima real life offlin worri happi',\n 'crimesinthemosh gonna buy plane tix convinc wait day monitor price trip confirm',\n 'high hell like forev watch mtv cindi',\n 'ototallyuniqueo good thank',\n 'queenoftheclick sound realli good probabl leftov good leftov dijon chicken frittata',\n 'bloggernott due three week normal would jump chanc work new project new ppl pretti cover',\n 'pupakat agre friend work citrix use work appl confirm well done',\n 'listen mix cd kayla burn',\n 'marybeverli send sun way plz nyc call lotsa rain',\n 'richardhill21 next post sent star right star lil swirli arrow arrow sign',\n 'time disconnect fantast dinner wait great friend cant get enough',\n 'dayvon87 lol sure 70 haha gt paypal',\n 'well saw inkheart quit enjoy realli',\n 'saw gentlemen honor societi soundcheck',\n 'nkotbgermani',\n 'hellogoodby walk distanc hous exactli 8 hour bad cant go',\n 'wowzer twitter absent funilli enough wthdrawal symptom woo hoo addict',\n 'newedg thank follow new icon look great',\n 'love smile yea old school r amp b',\n 'deirdrakiai think gonna demand pic one',\n 'quicki workout amp watch satc',\n 'hi school model search work today aka employe get dress like 80 win',\n 'elenaxoxo ow burn didnt go away month feel better',\n 'anyon els live area resist chang hard get peopl join quot green quot movement frustrat',\n 'last min trip austin woot',\n 'hair done',\n 'monkey minion',\n 'well hello rain mother natur way forc wear hair curli formal tonight haha',\n 'http www justin tv nexi lt watch u love mlg',\n 'mirandabuzz well go go bed tri sleep sick good night',\n 'tinyksass oh well ti first time',\n 'deker think site stupid care still sweeti',\n 'first day twitter world complet sure goodnight world',\n 'moviesontcm problem',\n 'one song littl boom boom pow bed yay late night',\n 'arriv north carolina',\n 'wait leav watch wed crasher',\n 'yipcoyot saturday night',\n 'goodiemonst quit endors request key golden palac',\n 'katelyniscool meow loud meow ass meow floor laugh',\n 'bunki311 sound good',\n 'justbon4 eurovis exactli',\n 'benjaminw glad ya like think blue moon accept dude',\n 'damn youtub delet find tweet',\n 'chris__emerson damn that suck well guess tri next time alreadi follow hehe',\n 'oh melbourn least u kick goal last qtr',\n 'start paint old bath use flower bed iz creativ',\n 'scarletmandi good woke tweetbrk nap gettin tweet whoot whoot',\n 'bridget_cook keep preserv share recip pickl sure',\n 'mambamvp24 lmao told laker armi myspac go jump',\n 'mileycyru past bedtim kid',\n 'pleas visit follow site http www youtub com helloimnicknarnia dont afraid',\n 'peopl get ont twitter late go facebook',\n 'got www tourcrush com messag board talk prop 8 marriag http tinyurl com cjvbc2',\n 'benmschofield heyi check ur music ur myspac love xx lt 3',\n 'raspberri fill chocol ravioli high',\n 'alvinko got tweeti ipod touch pretti sweet ha got chanc listen fleet fox yet lolla',\n 'man crazi connect world creat take step back freak',\n 'sethfan19 gonna restart comput super quick 5 min',\n 'snedwan good luck today fun fall',\n 'http twitpic com 4gw8e minauderi true',\n 'courgamm hahahaha luhhh lt 3 ttyt',\n 'hillao guess',\n 'hello world good morn sunshin good see fine',\n 'somersetbob morn bob hope good day today',\n 'lenuag nice meet u chile wait ur answer',\n 'watch v4v turn goodnight',\n 'figur want dream build',\n 'got clubbin feel way awak wanna go anoth round dammit',\n 'verkoren blip fm song post twitter',\n 'predivorcepow like outer circl inner circl step back lot distract thank',\n 'runnrgrl thank ill tweet updat',\n 'gettin ticket dour',\n 'joyandlif thank much ff beauti sunday',\n 'forsgren',\n 'jay brother soooo tire',\n 'pjredd read quot atmospheremong quot see mistak sorri interrupt joshr_1344',\n 'maryborough rsl guy electr guitar play great music sweet home alabama april sun cuba',\n 'shower soon read geopolit listen king leon',\n 'home relax cant wait see besti 2 morrw hope well enough go citi woot',\n 'mariosoultruth mannn im amp quot quot break banga turn sexi slow ballad gon hott',\n 'sam_b inde someon said pertin question quot u still speak esperanto quot',\n 'good morn world idea im earli let chat hit cell wanna',\n 'glastowatch thank laugh hope pig start worldwid panic well',\n 'lt 3 x men sooo mani hot men yumm',\n 'trekkerguy repli post thank hug',\n 'shaundiviney sure',\n '43 53 minut till get smelli cast lol rip fat ranga c lololol see fighter lol',\n 'olorinlorien hungov stop drink last night bodi said still lie bed nicolaherbert make tea coffe',\n 'candyma candi dont stop believ',\n 'watch logi eat home made pie pj awesom night',\n 'sent email toni blackburn blame lol',\n 'good sunday twitter ride die peep',\n 'obox obox game know great day',\n 'oh hangov kick like everyon sunni sunday afternoon',\n 'redcherryxoxo visit kimbobl',\n 'chrisvanb heck ye hate stuff anyway say buy',\n '7 11 sushi could mistak made bigger one',\n 'mojoguzzi drink cognac yesterday afternoon actual ye medicin purpos must think',\n 'epcotx twitbotnew gmoney52 ty 4 folfriday recommend twitter cheer thank gmoney',\n 'follow dare',\n 'join forc great night end stay booti beast social night jam thank',\n 'pacquiao realli one filipino pride',\n 'ook im goign watch he hope good',\n 'sophiest good luck sophia',\n 'llisalang',\n 'via paulaboardman checker look like cross denis ozzi http twitter com paulaboardman status 1686296573',\n 'scope_phil thank model playboy',\n 'last minut ï ½rhu monday interest peopl inspir present juici steak http cli gs 03q2yx',\n 'northant motley moot beltain picnic sun woop woop',\n 'torzilala yeah surviv went doctor bit wors flu good 7 10 day',\n 'drink milk eat yummi cooki life',\n 'might wet excit day footi sun wine pizza liv',\n 'dominiccampbel annemcx part quot bank quot group westminst http bit ly 2m88cb still got theme',\n 'dave matthew best http blip fm 5h5e',\n 'watch jona',\n 'anfield wait game start',\n 'lexistargirl amaz hahahah thank couldnt believ saw realli sweet yess song',\n 'adamsconsult problem great look forward see tweet',\n 'emzyjona know find new layout hard',\n 'mistressmia lol guess express',\n 'joeymarieward ohh boy crazi marlatt',\n 'jearl sound like viz top tip true',\n 'alyssa_milano thank account info verifi got rid fake jordan last night thank truthtweet impostor',\n 'annwhit bye',\n 'wake bright earli sunday feel good',\n 'readi freepeep time church',\n 'still definit worth get one',\n 'dominuz pretti good even resembl bit comic gave year ago',\n 'officialtila dude total found someon look like last night amaz say least',\n 'staff room bore need sit',\n 'nadianv oh 4 real shown would love check congrat get gig',\n 'myfutur didnt know 26 year old rode bmx that cute hahaha',\n 'hoppusday markhoppu happi hoppu day rock',\n 'way church wow sore jog skate bowl',\n 'talk footbal lunchtim anyth wors happi hoppusday everyon mother day fuckin amp touchin amp suckin hahhah',\n 'chelsiesaid open coffe shop weekend',\n 'still wait 30 follow helper pleas',\n 'martyfriend btw love extra organ solo 7pm last night',\n 'go mall',\n 'late reaction filipino pride vatti record match',\n 'ngb2279 neither',\n 'chocolatebox279 haha went red mine love',\n 'give pughug emmythecat henryandfriend fergusthedog pass three pughug free hug anyon pawpawti',\n 'tll587 corner bathroom obtain said bead',\n 'feel well think colleg tuesday make wors haha',\n 'maiyab check blip playlist sure make great store though earn real kudo amp legal free music',\n 'markhoppu good morn mark hope enjoy hoppusday thing',\n 'recov camp rave last bank holiday',\n 'good morn finish appl fritter breakfast fruit serv day',\n 'mfhorn sheff wed fan moon well done inde birmingham',\n 'back newark airport termin wait board flight go see rayray afternoon',\n 'johnnyfirecloud love antiquiet tho def keep thank much info rock happi sunday',\n 'mmm french toast',\n 'woke derek sheppard voic',\n 'mileycyru chang life thankyou love much god bless hero',\n 'shop brunch pour rain love gf wait see today fb',\n 'relax hard shop day',\n 'ohkay new obbess secret handshak check em',\n 'fearnecotton listen show whilst cook good laura kelli heidi sarah x',\n 'download hm movi better work time 62 alreadi',\n 'adamjcosburn definit feel better',\n 'pedroc aahh cuddi power truli sexi',\n 'sam_ho haha aww tri focu fail googl answer haha',\n 'care n e 1 say smith rock back n day',\n 'use ai anyway get power go use us batteri',\n 'gavinbwatson ye xoxo',\n 'markwarren1 welcom',\n 'helen_bop sorri like watch movi explooos big screen',\n 'hello everybodi',\n 'good sunday morn rain go make potato soup dinner rest day lazi day',\n 'thnx gurli mom promis win whole thing buy new tenni cloth im shop tenni place right',\n 'tracecyru hey brudder miss sooo much come back tour see',\n 'aaaand final laptop fulli charg yay',\n 'geoffthedit ahaha funni',\n 'mcraddict love heaven help us favourit b side histori ever',\n 'play volleybal ammm know hahaha love ya girll juli l',\n 'tvwxman3 watch butter challeng iron chef love watch iron chef im bord',\n 'eat famili',\n 'violajayn tri ask tweetdeck sure happi help',\n 'cultvin ohhhh sorri miss fun work fl bad either orlando west coast fl',\n 'ellapaigebab worryi forget go backstag show',\n 'the_real_nash eat balut dude ask much http en wikipedia org wiki balut_ egg',\n 'home play texa hold em',\n 'got hey monday shirt',\n 'final home amp amp rain gloomi day guess ju sit home amp amp watch movi amp amp eat popcorn dayi',\n '2 month work form home time',\n 'go bath gotta start microcontrol prep 4 2moro xam',\n 'erdoland great hang napoconf09 hope fun disney',\n 'campbellclaret oooo play',\n 'enriqu iglesia denmark woooaw coool b',\n 'play sim talk phone alexandra birthday 6 day',\n 'lay bed watch movi thinkin nap',\n 'plan birthday partayyyi',\n 'much run around today least product day time relax prepar anoth work week',\n 'emmyhasagun favorit line song',\n 'e l b w f v e love demi sit outsid thank good outdoor wifi',\n 'donaji23 hahaha may b next week',\n 'leav go back chicago back move 16th miss much',\n 'look ahead readi make awesom week want get sunday night know total rock go woohoo',\n 'amaz procrastin today actual get free time tonight',\n 'mcevoy1rachael yeah hannah montana one like song haha cool x',\n 'chrisaffair http twitpic com 4i0u7 whoo that crazaaay',\n 'hydroson excit see',\n 'drove tucker chillin oh madisonwild crazi haha littl ilybff4l lt 3',\n 'davegarnar everyon want look like coupla year ago honestli noth worri',\n 'podcast episod 8 upload type subscrib pleas www randolphstproduct mypodcast com thank',\n 'naptim thanx follow hit 300 today thank part tweet fam',\n 'went see wolverin',\n 'dirkey hey gonna pa mid may tri connect djembech amp mrskennyd lunch one day perhap',\n 'got jaim right',\n 'tri dress get readi chariti event tomorrow southampton glass wine glass',\n 'liodain oh hey welcom crack get use',\n 'rikki_nd u nurs battl wound amp heart',\n 'follow mattsmind 10 follow away 700 help',\n 'amf7 especi sinc rain',\n 'rodjek noth leg warmer fix',\n 'ferngulli',\n 'anima holi shit',\n 'christiinn awee babi mamma hope tomorrow better',\n 'mzjazze two third actual',\n 'henriqoliv182 say anyth great song http blip fm 5isvn',\n 'supa bore fix aim everyon get twitter updat deliv',\n 'recommend dcjc tea parti 2 0 http tparty2 com',\n 'xitsmatt aww thank even dont say love thing',\n '1sweetwhirl mflowers1965 thank much go proud papa mode tri post everi singl pic',\n 'aquarius00 thank follow hint never figur twitter lol enjoy',\n 'drew_mil forget longer live texa 1 good bbq 2 good steak',\n 'time bed earli shift tomorrow',\n 'thig_nat got email friend get home sure repli wait check',\n 'mini trip erin florida june got better',\n 'lindascrush oh well saw twosteppin knew meant',\n 'johnchow thank 4 follow',\n 'ibosmiley much season right thing pick june festiv',\n 'alway fun time ilyc er love em',\n 'chris_daughtri new album come canada',\n 'sixgaug im follow u man follow',\n 'ultramagnet butttt mine u eeeat 9 99 ummm gna tri tooo',\n 'ragdollgonewild pleas make saturday',\n 'ryantufo yep ps2 replay favorit kh2 avoid homework play save tomorrow',\n 'hope roomi becom obsess tri kill like one movi singl white femal',\n 'mrsnasirjon u rdi 2 masterb hun cuz',\n 'tho applaud parent make otherwis today would noth reflect made interest lesson',\n 'red ut sand lash extens',\n 'way pick patti',\n 'iheartlh byl',\n 'maffyewww ye',\n 'varinn hey homi happi birthday massiv',\n 'khloekardashian believ elvi work burger king know khlo definatli bit mysteri',\n 'say hi tweeter hope everybodi bless weekend one day weekend pop',\n 'sizzlemak check celeb need intern quarterlif com intern examin column',\n 'new comput woot',\n 'johnnydamongirl long snore couch rulz',\n 'alright leav guy song bye bye third eye blind semi charm life http blip fm 5j4bh',\n 'brainstorm design love',\n 'dhlawrencexvii go improv qualiti life end great posit other know',\n 'read read read poker face lalala 8',\n 'happi content',\n 'latexloverm oh ok haha anoth citi capit',\n 'kimkardashian omg luve wait see kri monkey',\n 'let see what demand catch guy later amp nancy9980 good luck hun',\n 'squishymatt alway welcom',\n 'good nite everyon best wish final student amp rest u real world tri 2 enjoy ur work week p',\n 'hilarynghtmar yess know omg wait till come back laaa',\n 'metaphoricxey hmm let see work yak yak cool yak call water bison asia momo fli bison avatar',\n 'unexpect twist turn dvd hooray cant wait jog littl gray cell',\n 'mdalin never occur',\n 'final met someon first time today tri long haha',\n 'carlyluvsunit 20 ward ward live',\n 'therealnuma awesom got busi two week uni birthday melbourn',\n 'eugenekhoo paper didnt mention anyth hit 1 blogout09 earli year well',\n 'lilapp lol thank tri steal show',\n 'found got push chair hit head wheelbarrow last night took beat thank vodka',\n 'rapping_fa learn good news ad david congratul wait see',\n 'yomcat cheer man',\n 'crossroad hair cut colour braid winter exam soon',\n 'well need get bed chat everyon tomorrow',\n 'british expat twitt tommi giant sprout especi fli part sprout sea http tinyurl com c7kvb6',\n 'dyeded hair',\n 'mizhal http blip fm 5jbp3',\n 'fanci 187 hun got u doin thing u aint never done',\n 'realli needa find stastic',\n 'invit join group second life call quot ballist autist quot cute name',\n 'gonna get tan white',\n '24hr time uni wait start 1st exam scari work hard morn though feel ok atm',\n 'mommymus thank hint http tinyurl com chtx7e',\n 'good morn haha read swine flu probabl come pig peopl poor pig got blame',\n 'play',\n 'lopezwilfr yeah lookout tweet happi tweet',\n 'staceeeee goodnight cuppycak hope good day feel blah xxoo',\n 'get dinner',\n 'ksidney wolverin great must see',\n 'thorney1 forget edinburgh check edinburghac org uk',\n 'deplurk buhbyee http plurk com p rp3ir',\n 'eat tito home made ice cream yum',\n 'drill sergeant voic everybodi wake fuck flick everyon light 500 est rise shine beetch lol jk',\n ...]"
     },
     "execution_count": 49,
     "metadata": {},
     "output_type": "execute_result"
    }
   ],
   "source": [
    "corpus\n",
    "# input"
   ]
  },
  {
   "cell_type": "code",
   "execution_count": 16,
   "metadata": {},
   "outputs": [
    {
     "data": {
      "text/plain": "                                             Message  Sentiment\n0  just had a real good moment. i missssssssss hi...          0\n1         is reading manga  http://plurk.com/p/mzp1e          0\n2  @comeagainjen http://twitpic.com/2y2lx - http:...          0\n3  @lapcat Need to send 'em to my accountant tomo...          0\n4      ADD ME ON MYSPACE!!!  myspace.com/LookThunder          0",
      "text/html": "<div>\n<style scoped>\n    .dataframe tbody tr th:only-of-type {\n        vertical-align: middle;\n    }\n\n    .dataframe tbody tr th {\n        vertical-align: top;\n    }\n\n    .dataframe thead th {\n        text-align: right;\n    }\n</style>\n<table border=\"1\" class=\"dataframe\">\n  <thead>\n    <tr style=\"text-align: right;\">\n      <th></th>\n      <th>Message</th>\n      <th>Sentiment</th>\n    </tr>\n  </thead>\n  <tbody>\n    <tr>\n      <th>0</th>\n      <td>just had a real good moment. i missssssssss hi...</td>\n      <td>0</td>\n    </tr>\n    <tr>\n      <th>1</th>\n      <td>is reading manga  http://plurk.com/p/mzp1e</td>\n      <td>0</td>\n    </tr>\n    <tr>\n      <th>2</th>\n      <td>@comeagainjen http://twitpic.com/2y2lx - http:...</td>\n      <td>0</td>\n    </tr>\n    <tr>\n      <th>3</th>\n      <td>@lapcat Need to send 'em to my accountant tomo...</td>\n      <td>0</td>\n    </tr>\n    <tr>\n      <th>4</th>\n      <td>ADD ME ON MYSPACE!!!  myspace.com/LookThunder</td>\n      <td>0</td>\n    </tr>\n  </tbody>\n</table>\n</div>"
     },
     "execution_count": 16,
     "metadata": {},
     "output_type": "execute_result"
    }
   ],
   "source": [
    "data.head()"
   ]
  },
  {
   "cell_type": "code",
   "execution_count": 17,
   "metadata": {},
   "outputs": [
    {
     "data": {
      "text/plain": "0    0\n1    0\n2    0\n3    0\n4    0\nName: Sentiment, dtype: int64"
     },
     "execution_count": 17,
     "metadata": {},
     "output_type": "execute_result"
    }
   ],
   "source": [
    "# select output i.e Label\n",
    "output = data.iloc[:,-1]\n",
    "output.head()"
   ]
  },
  {
   "cell_type": "markdown",
   "metadata": {
    "pycharm": {
     "name": "#%% md\n"
    }
   },
   "source": [
    "## Data Preprocessing"
   ]
  },
  {
   "cell_type": "code",
   "execution_count": 18,
   "metadata": {
    "collapsed": false,
    "pycharm": {
     "name": "#%%\n"
    }
   },
   "outputs": [],
   "source": [
    "# we have input and output ready, now split data in input and output sets\n",
    "from sklearn.model_selection import train_test_split\n",
    "\n",
    "xtrain, xtest, ytrain, ytest = train_test_split(input, output, test_size=0.2, random_state=0)"
   ]
  },
  {
   "cell_type": "code",
   "execution_count": 19,
   "metadata": {},
   "outputs": [
    {
     "data": {
      "text/plain": "(8251, 19327)"
     },
     "execution_count": 19,
     "metadata": {},
     "output_type": "execute_result"
    }
   ],
   "source": [
    "xtrain.shape"
   ]
  },
  {
   "cell_type": "code",
   "execution_count": 20,
   "metadata": {},
   "outputs": [
    {
     "data": {
      "text/plain": "(8251,)"
     },
     "execution_count": 20,
     "metadata": {},
     "output_type": "execute_result"
    }
   ],
   "source": [
    "ytrain.shape"
   ]
  },
  {
   "cell_type": "code",
   "execution_count": 21,
   "metadata": {},
   "outputs": [
    {
     "data": {
      "text/plain": "(2063, 19327)"
     },
     "execution_count": 21,
     "metadata": {},
     "output_type": "execute_result"
    }
   ],
   "source": [
    "xtest.shape"
   ]
  },
  {
   "cell_type": "code",
   "execution_count": 22,
   "metadata": {},
   "outputs": [
    {
     "data": {
      "text/plain": "(2063,)"
     },
     "execution_count": 22,
     "metadata": {},
     "output_type": "execute_result"
    }
   ],
   "source": [
    "ytest.shape\n"
   ]
  },
  {
   "cell_type": "markdown",
   "metadata": {
    "collapsed": false
   },
   "source": [
    "## Naive Bayes"
   ]
  },
  {
   "cell_type": "code",
   "execution_count": 25,
   "metadata": {
    "collapsed": false,
    "pycharm": {
     "name": "#%%\n"
    }
   },
   "outputs": [
    {
     "name": "stdout",
     "output_type": "stream",
     "text": [
      "Accuracy:\n",
      "  0.6204556471158507\n",
      "Confusion Matrix:\n",
      "  [[850 723]\n",
      " [ 60 430]]\n",
      "Classification report:\n",
      "                precision    recall  f1-score   support\n",
      "\n",
      "           0       0.93      0.54      0.68      1573\n",
      "           1       0.37      0.88      0.52       490\n",
      "\n",
      "    accuracy                           0.62      2063\n",
      "   macro avg       0.65      0.71      0.60      2063\n",
      "weighted avg       0.80      0.62      0.65      2063\n",
      "\n",
      "AxesSubplot(0.125,0.125;0.62x0.755)\n"
     ]
    },
    {
     "data": {
      "text/plain": "<Figure size 432x288 with 2 Axes>",
      "image/png": "[encoded data removed]"
     },
     "metadata": {
      "needs_background": "light"
     },
     "output_type": "display_data"
    }
   ],
   "source": [
    "# Create and implement a model for prediction\n",
    "from sklearn.naive_bayes import GaussianNB\n",
    "model_gnb = GaussianNB()\n",
    "model_gnb.fit(xtrain,ytrain)\n",
    "\n",
    "# Predicting the Test set results\n",
    "pred = model_gnb.predict(xtest)\n",
    "\n",
    "# Let us check accuracy of model\n",
    "from sklearn.metrics import accuracy_score, classification_report, confusion_matrix\n",
    "\n",
    "acc1 = accuracy_score(ytest,pred)\n",
    "cm = confusion_matrix(ytest, pred)\n",
    "cr = classification_report(ytest, pred)\n",
    "\n",
    "print(\"Accuracy:\\n \",acc1)\n",
    "print(\"Confusion Matrix:\\n \",cm)\n",
    "print(\"Classification report:\\n \",cr)\n",
    "\n",
    "from sklearn.metrics import confusion_matrix\n",
    "import matplotlib.pyplot as plt\n",
    "import seaborn as sns\n",
    "axis= plt.subplot()\n",
    "cm=confusion_matrix(ytest, pred)\n",
    "print(sns.heatmap(cm, annot=True, ax = axis,cmap='Purples'))"
   ]
  },
  {
   "cell_type": "markdown",
   "metadata": {
    "collapsed": false
   },
   "source": [
    "## Decision Tree"
   ]
  },
  {
   "cell_type": "code",
   "execution_count": 27,
   "metadata": {
    "collapsed": false,
    "pycharm": {
     "name": "#%%\n"
    }
   },
   "outputs": [
    {
     "name": "stdout",
     "output_type": "stream",
     "text": [
      "Accuracy:\n",
      "  0.9970916141541445\n",
      "Confusion Matrix:\n",
      "  [[1573    0]\n",
      " [   6  484]]\n",
      "Classification report:\n",
      "                precision    recall  f1-score   support\n",
      "\n",
      "           0       1.00      1.00      1.00      1573\n",
      "           1       1.00      0.99      0.99       490\n",
      "\n",
      "    accuracy                           1.00      2063\n",
      "   macro avg       1.00      0.99      1.00      2063\n",
      "weighted avg       1.00      1.00      1.00      2063\n",
      "\n",
      "AxesSubplot(0.125,0.125;0.62x0.755)\n"
     ]
    },
    {
     "data": {
      "text/plain": "<Figure size 432x288 with 2 Axes>",
      "image/png": "[encoded data removed]"
     },
     "metadata": {
      "needs_background": "light"
     },
     "output_type": "display_data"
    }
   ],
   "source": [
    "# Create and implement a model for prediction\n",
    "from sklearn.tree import DecisionTreeClassifier\n",
    "model_dt = DecisionTreeClassifier()\n",
    "model_dt.fit(xtrain,ytrain)\n",
    "\n",
    "# Predicting the Test set results\n",
    "pred = model_dt.predict(xtest)\n",
    "\n",
    "# Lets check accuracy of model\n",
    "from sklearn.metrics import accuracy_score, classification_report, confusion_matrix\n",
    "\n",
    "acc2 = accuracy_score(ytest,pred)\n",
    "cm = confusion_matrix(ytest, pred)\n",
    "cr = classification_report(ytest, pred)\n",
    "\n",
    "print(\"Accuracy:\\n \",acc2)\n",
    "\n",
    "print(\"Confusion Matrix:\\n \",cm)\n",
    "print(\"Classification report:\\n \",cr)"
   ]
  },
  {
   "cell_type": "code",
   "execution_count": 28,
   "outputs": [
    {
     "name": "stdout",
     "output_type": "stream",
     "text": [
      "AxesSubplot(0.125,0.125;0.62x0.755)\n"
     ]
    },
    {
     "data": {
      "text/plain": "<Figure size 432x288 with 2 Axes>",
      "image/png": "[encoded data removed]"
     },
     "metadata": {
      "needs_background": "light"
     },
     "output_type": "display_data"
    }
   ],
   "source": [
    "from sklearn.metrics import confusion_matrix\n",
    "import matplotlib.pyplot as plt\n",
    "import seaborn as sns\n",
    "axis= plt.subplot()\n",
    "\n",
    "print(sns.heatmap(cm, annot=True, ax = axis,cmap='Greens'))\n"
   ],
   "metadata": {
    "collapsed": false,
    "pycharm": {
     "name": "#%%\n"
    }
   }
  },
  {
   "cell_type": "markdown",
   "metadata": {
    "pycharm": {
     "name": "#%% md\n"
    }
   },
   "source": [
    "## Random Forest"
   ]
  },
  {
   "cell_type": "code",
   "execution_count": 29,
   "metadata": {
    "pycharm": {
     "name": "#%%\n"
    }
   },
   "outputs": [
    {
     "name": "stdout",
     "output_type": "stream",
     "text": [
      "Accuracy:\n",
      "  0.9966068831798351\n",
      "Confusion Matrix:\n",
      "  [[1572    1]\n",
      " [   6  484]]\n",
      "Classification report:\n",
      "                precision    recall  f1-score   support\n",
      "\n",
      "           0       1.00      1.00      1.00      1573\n",
      "           1       1.00      0.99      0.99       490\n",
      "\n",
      "    accuracy                           1.00      2063\n",
      "   macro avg       1.00      0.99      1.00      2063\n",
      "weighted avg       1.00      1.00      1.00      2063\n",
      "\n"
     ]
    }
   ],
   "source": [
    "# Create and implement a model for prediction\n",
    "from sklearn.ensemble import RandomForestClassifier\n",
    "model_rf = RandomForestClassifier()\n",
    "# fit and predict values\n",
    "model_rf.fit(xtrain,ytrain)\n",
    "\n",
    "# Predicting the Test set results\n",
    "pred = model_rf.predict(xtest)\n",
    "\n",
    "# Lets check accuracy of model\n",
    "from sklearn.metrics import accuracy_score, classification_report, confusion_matrix\n",
    "\n",
    "acc3 = accuracy_score(ytest,pred)\n",
    "cm = confusion_matrix(ytest, pred)\n",
    "cr = classification_report(ytest, pred)\n",
    "\n",
    "print(\"Accuracy:\\n \",acc3)\n",
    "print(\"Confusion Matrix:\\n \",cm)\n",
    "print(\"Classification report:\\n \",cr)"
   ]
  },
  {
   "cell_type": "code",
   "execution_count": 30,
   "outputs": [
    {
     "name": "stdout",
     "output_type": "stream",
     "text": [
      "AxesSubplot(0.125,0.125;0.62x0.755)\n"
     ]
    },
    {
     "data": {
      "text/plain": "<Figure size 432x288 with 2 Axes>",
      "image/png": "[encoded data removed]"
     },
     "metadata": {
      "needs_background": "light"
     },
     "output_type": "display_data"
    }
   ],
   "source": [
    "from sklearn.metrics import confusion_matrix\n",
    "import matplotlib.pyplot as plt\n",
    "import seaborn as sns\n",
    "axis= plt.subplot()\n",
    "\n",
    "print(sns.heatmap(cm, annot=True, ax = axis,cmap='BuPu'))"
   ],
   "metadata": {
    "collapsed": false,
    "pycharm": {
     "name": "#%%\n"
    }
   }
  },
  {
   "cell_type": "markdown",
   "metadata": {
    "collapsed": false
   },
   "source": [
    "## SVM"
   ]
  },
  {
   "cell_type": "code",
   "execution_count": 31,
   "metadata": {
    "collapsed": false,
    "pycharm": {
     "name": "#%%\n"
    }
   },
   "outputs": [
    {
     "name": "stdout",
     "output_type": "stream",
     "text": [
      "Accuracy:\n",
      "  0.9961221522055259\n",
      "Confusion Matrix:\n",
      "  [[1573    0]\n",
      " [   8  482]]\n",
      "Classification report:\n",
      "                precision    recall  f1-score   support\n",
      "\n",
      "           0       0.99      1.00      1.00      1573\n",
      "           1       1.00      0.98      0.99       490\n",
      "\n",
      "    accuracy                           1.00      2063\n",
      "   macro avg       1.00      0.99      0.99      2063\n",
      "weighted avg       1.00      1.00      1.00      2063\n",
      "\n"
     ]
    }
   ],
   "source": [
    "from sklearn.svm import SVC\n",
    "classifier = SVC(kernel = 'linear', random_state = 0)\n",
    "classifier.fit(xtrain, ytrain)\n",
    "\n",
    "# Predicting the Test set results\n",
    "pred = classifier.predict(xtest)\n",
    "\n",
    "# Let us check the accuracy of model\n",
    "from sklearn.metrics import accuracy_score, classification_report, confusion_matrix\n",
    "\n",
    "acc4 = accuracy_score(ytest,pred)\n",
    "cm = confusion_matrix(ytest, pred)\n",
    "cr = classification_report(ytest, pred)\n",
    "\n",
    "print(\"Accuracy:\\n \",acc4)\n",
    "print(\"Confusion Matrix:\\n \",cm)\n",
    "print(\"Classification report:\\n \",cr)"
   ]
  },
  {
   "cell_type": "code",
   "execution_count": 32,
   "outputs": [
    {
     "name": "stdout",
     "output_type": "stream",
     "text": [
      "AxesSubplot(0.125,0.125;0.62x0.755)\n"
     ]
    },
    {
     "data": {
      "text/plain": "<Figure size 432x288 with 2 Axes>",
      "image/png": "[encoded data removed]"
     },
     "metadata": {
      "needs_background": "light"
     },
     "output_type": "display_data"
    }
   ],
   "source": [
    "from sklearn.metrics import confusion_matrix\n",
    "import matplotlib.pyplot as plt\n",
    "import seaborn as sns\n",
    "axis= plt.subplot()\n",
    "\n",
    "print(sns.heatmap(cm, annot=True, ax = axis,cmap='reds'))"
   ],
   "metadata": {
    "collapsed": false,
    "pycharm": {
     "name": "#%%\n"
    }
   }
  },
  {
   "cell_type": "markdown",
   "metadata": {
    "collapsed": false,
    "pycharm": {
     "name": "#%% md\n"
    }
   },
   "source": [
    "## Kernel SVM"
   ]
  },
  {
   "cell_type": "code",
   "execution_count": 33,
   "metadata": {
    "collapsed": false,
    "pycharm": {
     "name": "#%%\n"
    }
   },
   "outputs": [
    {
     "name": "stdout",
     "output_type": "stream",
     "text": [
      "Accuracy:\n",
      "  0.9956374212312167\n",
      "Confusion Matrix:\n",
      "  [[1569    4]\n",
      " [   5  485]]\n",
      "Classification report:\n",
      "                precision    recall  f1-score   support\n",
      "\n",
      "           0       1.00      1.00      1.00      1573\n",
      "           1       0.99      0.99      0.99       490\n",
      "\n",
      "    accuracy                           1.00      2063\n",
      "   macro avg       0.99      0.99      0.99      2063\n",
      "weighted avg       1.00      1.00      1.00      2063\n",
      "\n"
     ]
    }
   ],
   "source": [
    "from sklearn.svm import SVC\n",
    "classifier = SVC(kernel = 'rbf', random_state = 0)\n",
    "classifier.fit(xtrain, ytrain)\n",
    "\n",
    "# Predicting the Test set results\n",
    "pred = classifier.predict(xtest)\n",
    "\n",
    "# Let us check the accuracy of model\n",
    "from sklearn.metrics import accuracy_score, classification_report, confusion_matrix\n",
    "\n",
    "acc5 = accuracy_score(ytest,pred)\n",
    "cm = confusion_matrix(ytest, pred)\n",
    "cr = classification_report(ytest, pred)\n",
    "\n",
    "print(\"Accuracy:\\n \",acc5)\n",
    "print(\"Confusion Matrix:\\n \",cm)\n",
    "print(\"Classification report:\\n \",cr)"
   ]
  },
  {
   "cell_type": "code",
   "execution_count": 34,
   "outputs": [
    {
     "name": "stdout",
     "output_type": "stream",
     "text": [
      "AxesSubplot(0.125,0.125;0.62x0.755)\n"
     ]
    },
    {
     "data": {
      "text/plain": "<Figure size 432x288 with 2 Axes>",
      "image/png": "[encoded data removed]"
     },
     "metadata": {
      "needs_background": "light"
     },
     "output_type": "display_data"
    }
   ],
   "source": [
    "from sklearn.metrics import confusion_matrix\n",
    "import matplotlib.pyplot as plt\n",
    "import seaborn as sns\n",
    "axis= plt.subplot()\n",
    "\n",
    "print(sns.heatmap(cm, annot=True, ax = axis,cmap='Purples'))"
   ],
   "metadata": {
    "collapsed": false,
    "pycharm": {
     "name": "#%%\n"
    }
   }
  },
  {
   "cell_type": "markdown",
   "metadata": {
    "collapsed": false
   },
   "source": [
    "## KNN"
   ]
  },
  {
   "cell_type": "code",
   "execution_count": 35,
   "metadata": {
    "collapsed": false,
    "pycharm": {
     "name": "#%%\n"
    }
   },
   "outputs": [
    {
     "name": "stdout",
     "output_type": "stream",
     "text": [
      "Accuracy:\n",
      "  0.9815802229762481\n",
      "Confusion Matrix:\n",
      "  [[1570    3]\n",
      " [  35  455]]\n",
      "Classification report:\n",
      "                precision    recall  f1-score   support\n",
      "\n",
      "           0       0.98      1.00      0.99      1573\n",
      "           1       0.99      0.93      0.96       490\n",
      "\n",
      "    accuracy                           0.98      2063\n",
      "   macro avg       0.99      0.96      0.97      2063\n",
      "weighted avg       0.98      0.98      0.98      2063\n",
      "\n"
     ]
    }
   ],
   "source": [
    "# Training the K-NN model on the Training set\n",
    "from sklearn.neighbors import KNeighborsClassifier\n",
    "classifier = KNeighborsClassifier(n_neighbors = 5, metric = 'minkowski', p = 2)\n",
    "classifier.fit(xtrain, ytrain)\n",
    "\n",
    "# Predicting the Test set results\n",
    "pred = classifier.predict(xtest)\n",
    "\n",
    "# Let us check the accuracy of model\n",
    "from sklearn.metrics import accuracy_score, classification_report, confusion_matrix\n",
    "\n",
    "acc6 = accuracy_score(ytest,pred)\n",
    "cm = confusion_matrix(ytest, pred)\n",
    "cr = classification_report(ytest, pred)\n",
    "\n",
    "print(\"Accuracy:\\n \",acc6)\n",
    "print(\"Confusion Matrix:\\n \",cm)\n",
    "print(\"Classification report:\\n \",cr)"
   ]
  },
  {
   "cell_type": "code",
   "execution_count": 36,
   "outputs": [
    {
     "name": "stdout",
     "output_type": "stream",
     "text": [
      "AxesSubplot(0.125,0.125;0.62x0.755)\n"
     ]
    },
    {
     "data": {
      "text/plain": "<Figure size 432x288 with 2 Axes>",
      "image/png": "[encoded data removed]"
     },
     "metadata": {
      "needs_background": "light"
     },
     "output_type": "display_data"
    }
   ],
   "source": [
    "from sklearn.metrics import confusion_matrix\n",
    "import matplotlib.pyplot as plt\n",
    "import seaborn as sns\n",
    "axis= plt.subplot()\n",
    "\n",
    "print(sns.heatmap(cm, annot=True, ax = axis,cmap='Greens'))"
   ],
   "metadata": {
    "collapsed": false,
    "pycharm": {
     "name": "#%%\n"
    }
   }
  },
  {
   "cell_type": "markdown",
   "metadata": {
    "collapsed": false
   },
   "source": [
    "## XGBoost"
   ]
  },
  {
   "cell_type": "code",
   "execution_count": 37,
   "metadata": {
    "collapsed": false,
    "pycharm": {
     "name": "#%%\n"
    }
   },
   "outputs": [
    {
     "name": "stderr",
     "output_type": "stream",
     "text": [
      "/Library/Frameworks/Python.framework/Versions/3.9/lib/python3.9/site-packages/xgboost/sklearn.py:1224: UserWarning: The use of label encoder in XGBClassifier is deprecated and will be removed in a future release. To remove this warning, do the following: 1) Pass option use_label_encoder=False when constructing XGBClassifier object; and 2) Encode your labels (y) as integers starting with 0, i.e. 0, 1, 2, ..., [num_class - 1].\n",
      "  warnings.warn(label_encoder_deprecation_msg, UserWarning)\n"
     ]
    },
    {
     "name": "stdout",
     "output_type": "stream",
     "text": [
      "[00:00:17] WARNING: /Users/travis/build/dmlc/xgboost/src/learner.cc:1115: Starting in XGBoost 1.3.0, the default evaluation metric used with the objective 'binary:logistic' was changed from 'error' to 'logloss'. Explicitly set eval_metric if you'd like to restore the old behavior.\n"
     ]
    }
   ],
   "source": [
    "from xgboost import XGBClassifier\n",
    "classifier = XGBClassifier()\n",
    "classifier.fit(xtrain, ytrain)\n",
    "\n",
    "# Predicting the Test set results\n",
    "pred = classifier.predict(xtest)"
   ]
  },
  {
   "cell_type": "code",
   "execution_count": 38,
   "outputs": [
    {
     "name": "stdout",
     "output_type": "stream",
     "text": [
      "Accuracy:\n",
      "  0.9961221522055259\n",
      "Confusion Matrix:\n",
      "  [[1573    0]\n",
      " [   8  482]]\n",
      "Classification report:\n",
      "                precision    recall  f1-score   support\n",
      "\n",
      "           0       0.99      1.00      1.00      1573\n",
      "           1       1.00      0.98      0.99       490\n",
      "\n",
      "    accuracy                           1.00      2063\n",
      "   macro avg       1.00      0.99      0.99      2063\n",
      "weighted avg       1.00      1.00      1.00      2063\n",
      "\n"
     ]
    }
   ],
   "source": [
    "from sklearn.metrics import accuracy_score, classification_report, confusion_matrix\n",
    "\n",
    "acc7 = accuracy_score(ytest,pred)\n",
    "cm = confusion_matrix(ytest, pred)\n",
    "cr = classification_report(ytest, pred)\n",
    "\n",
    "print(\"Accuracy:\\n \",acc7)\n",
    "print(\"Confusion Matrix:\\n \",cm)\n",
    "print(\"Classification report:\\n \",cr)\n",
    "# Let us check the accuracy of model \n",
    "# Applying k-Fold Cross Validation"
   ],
   "metadata": {
    "collapsed": false,
    "pycharm": {
     "name": "#%%\n"
    }
   }
  },
  {
   "cell_type": "code",
   "execution_count": 39,
   "outputs": [
    {
     "name": "stdout",
     "output_type": "stream",
     "text": [
      "AxesSubplot(0.125,0.125;0.62x0.755)\n"
     ]
    },
    {
     "data": {
      "text/plain": "<Figure size 432x288 with 2 Axes>",
      "image/png": "[encoded data removed]"
     },
     "metadata": {
      "needs_background": "light"
     },
     "output_type": "display_data"
    }
   ],
   "source": [
    "from sklearn.metrics import confusion_matrix\n",
    "import matplotlib.pyplot as plt\n",
    "import seaborn as sns\n",
    "axis= plt.subplot()\n",
    "print(sns.heatmap(cm, annot=True, ax = axis,cmap='BuPu'))"
   ],
   "metadata": {
    "collapsed": false,
    "pycharm": {
     "name": "#%%\n"
    }
   }
  },
  {
   "cell_type": "code",
   "execution_count": 40,
   "outputs": [],
   "source": [
    "# from sklearn.model_selection import cross_val_score\n",
    "# acc7 = cross_val_score(estimator = classifier, X = xtrain, y = ytrain, cv = 10)\n",
    "# print(\"Accuracy: \", acc7.mean())"
   ],
   "metadata": {
    "collapsed": false,
    "pycharm": {
     "name": "#%%\n"
    }
   }
  },
  {
   "cell_type": "code",
   "source": [
    "#\n",
    "# arr =\n",
    "# names =\n",
    "# creating the bar plot\n",
    "# plt.xticks(names)\n",
    "#\n",
    "# plt.show()"
   ],
   "metadata": {
    "collapsed": false,
    "pycharm": {
     "name": "#%%\n"
    }
   },
   "execution_count": 41,
   "outputs": []
  },
  {
   "cell_type": "code",
   "execution_count": 42,
   "outputs": [
    {
     "data": {
      "text/plain": "<Figure size 432x288 with 1 Axes>",
      "image/png": "[encoded data removed]"
     },
     "metadata": {
      "needs_background": "dark"
     },
     "output_type": "display_data"
    }
   ],
   "source": [
    "import numpy as np\n",
    "import matplotlib.pyplot as plt\n",
    "fig = plt.figure()\n",
    "ax = fig.add_axes([0,0,1,1])\n",
    "names = ['Naive Bayes', 'Decision Tree', 'Random Forest', 'SVM', 'K SVM', 'KNN', 'XGBoost']\n",
    "values = [int(acc1*100),int(acc2*100), int(acc3*100), int(acc4*100), int(acc5*100), int(acc6*100), int((acc7.mean())*100)]\n",
    "ax.bar(names,values)\n",
    "plt.xticks(rotation=90, color='white')\n",
    "plt.yticks(color='white')\n",
    "plt.ylabel(\"Accuracy\", color='white')\n",
    "# plt.ylabel(color='white')\n",
    "plt.title(\"Comparison Of Various Classifiers\", color='white')\n",
    "plt.show()"
   ],
   "metadata": {
    "collapsed": false,
    "pycharm": {
     "name": "#%%\n"
    }
   }
  },
  {
   "cell_type": "code",
   "execution_count": 45,
   "outputs": [
    {
     "data": {
      "text/plain": "<Figure size 432x288 with 1 Axes>",
      "image/png": "[encoded data removed]"
     },
     "metadata": {
      "needs_background": "light"
     },
     "output_type": "display_data"
    }
   ],
   "source": [
    "fig = plt.figure()\n",
    "ax = fig.add_axes([0,0,1,1])\n",
    "names = ['Naive Bayes', 'Decision Tree', 'Random Forest', 'SVM', 'Kernel SVM', 'KNN', 'XGBoost']\n",
    "values = [(acc1*100),(acc2*100),(acc3*100), (acc4*100), (acc5*100), (acc6*100), ((acc7.mean())*100)]\n",
    "ax.bar(names,values)\n",
    "plt.xticks(rotation=90)\n",
    "plt.yticks(np.arange(0,101,5))\n",
    "plt.ylabel(\"Accuracy\")\n",
    "# plt.ylabel(color='white')\n",
    "plt.title(\"Comparison Of Various Classifiers\")\n",
    "plt.show()"
   ],
   "metadata": {
    "collapsed": false,
    "pycharm": {
     "name": "#%%\n"
    }
   }
  },
  {
   "cell_type": "code",
   "execution_count": null,
   "outputs": [],
   "source": [],
   "metadata": {
    "collapsed": false,
    "pycharm": {
     "name": "#%%\n"
    }
   }
  }
 ],
 "metadata": {
  "kernelspec": {
   "display_name": "Python 3",
   "language": "python",
   "name": "python3"
  },
  "language_info": {
   "codemirror_mode": {
    "name": "ipython",
    "version": 3
   },
   "file_extension": ".py",
   "mimetype": "text/x-python",
   "name": "python",
   "nbconvert_exporter": "python",
   "pygments_lexer": "ipython3",
   "version": "3.9.1"
  }
 },
 "nbformat": 4,
 "nbformat_minor": 4
}